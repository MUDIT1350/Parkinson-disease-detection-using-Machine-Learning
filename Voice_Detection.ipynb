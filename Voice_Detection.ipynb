{
  "cells": [
    {
      "cell_type": "markdown",
      "metadata": {
        "id": "d3rxe57pxEIF"
      },
      "source": [
        "# Parkinsons Disease\n",
        "The objective is to find a model which will be able to predict whether a person is likely to have parkinsons disease or not given their medical records.\n",
        "___\n",
        "\n",
        "## Model Performamce\n",
        "Accuracy, F1-Score and Recall were the metrics used to evaluate the performance of the model\n",
        "\n",
        "| Method    |  Accuracy (%)  | F1-Score (%) | Recall (%) |\n",
        "|-----------|---------|-----------|---------|\n",
        "| **Random Forest**   | **97.44**   | **98.41** | **100.00** |\n",
        "| XGBoost | 89.74   | 93.94 | **100.00** |\n",
        "| SVM | 89.74   | 93.33 | 90.32 |\n",
        "___\n",
        "\n",
        "### Steps to Solve Problem\n",
        "* Import Dataset and Libraries\n",
        "* Data Preprocessing\n",
        "    * Train / Test Data split\n",
        "    * Missing Data Imputation\n",
        "    * Outlier Handling\n",
        "    * Feature Scaling\n",
        "    * Imbalanced Data\n",
        "* Model Build\n",
        "    * Model Initiation and Fitting\n",
        "    * Test predictions\n",
        "* Model Perfromance\n",
        "    * Recall\n",
        "    * Case Prediction\n",
        "        \n"
      ]
    },
    {
      "cell_type": "markdown",
      "metadata": {
        "id": "WWi2S4PTxEIL"
      },
      "source": [
        "### Import Libraries and Dataset"
      ]
    },
    {
      "cell_type": "code",
      "execution_count": 1,
      "metadata": {
        "id": "3vTSzbJUxEIM",
        "colab": {
          "base_uri": "https://localhost:8080/"
        },
        "outputId": "6236d2b6-514b-410f-c660-5233f580b3b8"
      },
      "outputs": [
        {
          "output_type": "stream",
          "name": "stdout",
          "text": [
            "Collecting voila\n",
            "  Downloading voila-0.5.7-py3-none-any.whl (3.9 MB)\n",
            "\u001b[2K     \u001b[90m━━━━━━━━━━━━━━━━━━━━━━━━━━━━━━━━━━━━━━━━\u001b[0m \u001b[32m3.9/3.9 MB\u001b[0m \u001b[31m15.1 MB/s\u001b[0m eta \u001b[36m0:00:00\u001b[0m\n",
            "\u001b[?25hCollecting jupyter-client<9,>=7.4.4 (from voila)\n",
            "  Downloading jupyter_client-8.6.2-py3-none-any.whl (105 kB)\n",
            "\u001b[2K     \u001b[90m━━━━━━━━━━━━━━━━━━━━━━━━━━━━━━━━━━━━━━━━\u001b[0m \u001b[32m105.9/105.9 kB\u001b[0m \u001b[31m16.6 MB/s\u001b[0m eta \u001b[36m0:00:00\u001b[0m\n",
            "\u001b[?25hRequirement already satisfied: jupyter-core>=4.11.0 in /usr/local/lib/python3.10/dist-packages (from voila) (5.7.2)\n",
            "Collecting jupyter-server<3,>=2.0.0 (from voila)\n",
            "  Downloading jupyter_server-2.14.1-py3-none-any.whl (383 kB)\n",
            "\u001b[2K     \u001b[90m━━━━━━━━━━━━━━━━━━━━━━━━━━━━━━━━━━━━━━━━\u001b[0m \u001b[32m383.4/383.4 kB\u001b[0m \u001b[31m23.9 MB/s\u001b[0m eta \u001b[36m0:00:00\u001b[0m\n",
            "\u001b[?25hCollecting jupyterlab-server<3,>=2.3.0 (from voila)\n",
            "  Downloading jupyterlab_server-2.27.2-py3-none-any.whl (59 kB)\n",
            "\u001b[2K     \u001b[90m━━━━━━━━━━━━━━━━━━━━━━━━━━━━━━━━━━━━━━━━\u001b[0m \u001b[32m59.4/59.4 kB\u001b[0m \u001b[31m8.4 MB/s\u001b[0m eta \u001b[36m0:00:00\u001b[0m\n",
            "\u001b[?25hRequirement already satisfied: nbclient>=0.4.0 in /usr/local/lib/python3.10/dist-packages (from voila) (0.10.0)\n",
            "Requirement already satisfied: nbconvert<8,>=6.4.5 in /usr/local/lib/python3.10/dist-packages (from voila) (6.5.4)\n",
            "Requirement already satisfied: traitlets<6,>=5.0.3 in /usr/local/lib/python3.10/dist-packages (from voila) (5.7.1)\n",
            "Collecting websockets>=9.0 (from voila)\n",
            "  Downloading websockets-12.0-cp310-cp310-manylinux_2_5_x86_64.manylinux1_x86_64.manylinux_2_17_x86_64.manylinux2014_x86_64.whl (130 kB)\n",
            "\u001b[2K     \u001b[90m━━━━━━━━━━━━━━━━━━━━━━━━━━━━━━━━━━━━━━━━\u001b[0m \u001b[32m130.2/130.2 kB\u001b[0m \u001b[31m18.3 MB/s\u001b[0m eta \u001b[36m0:00:00\u001b[0m\n",
            "\u001b[?25hRequirement already satisfied: python-dateutil>=2.8.2 in /usr/local/lib/python3.10/dist-packages (from jupyter-client<9,>=7.4.4->voila) (2.8.2)\n",
            "Requirement already satisfied: pyzmq>=23.0 in /usr/local/lib/python3.10/dist-packages (from jupyter-client<9,>=7.4.4->voila) (24.0.1)\n",
            "Requirement already satisfied: tornado>=6.2 in /usr/local/lib/python3.10/dist-packages (from jupyter-client<9,>=7.4.4->voila) (6.3.3)\n",
            "Requirement already satisfied: platformdirs>=2.5 in /usr/local/lib/python3.10/dist-packages (from jupyter-core>=4.11.0->voila) (4.2.2)\n",
            "Requirement already satisfied: anyio>=3.1.0 in /usr/local/lib/python3.10/dist-packages (from jupyter-server<3,>=2.0.0->voila) (3.7.1)\n",
            "Requirement already satisfied: argon2-cffi>=21.1 in /usr/local/lib/python3.10/dist-packages (from jupyter-server<3,>=2.0.0->voila) (23.1.0)\n",
            "Requirement already satisfied: jinja2>=3.0.3 in /usr/local/lib/python3.10/dist-packages (from jupyter-server<3,>=2.0.0->voila) (3.1.4)\n",
            "Collecting jupyter-events>=0.9.0 (from jupyter-server<3,>=2.0.0->voila)\n",
            "  Downloading jupyter_events-0.10.0-py3-none-any.whl (18 kB)\n",
            "Collecting jupyter-server-terminals>=0.4.4 (from jupyter-server<3,>=2.0.0->voila)\n",
            "  Downloading jupyter_server_terminals-0.5.3-py3-none-any.whl (13 kB)\n",
            "Requirement already satisfied: nbformat>=5.3.0 in /usr/local/lib/python3.10/dist-packages (from jupyter-server<3,>=2.0.0->voila) (5.10.4)\n",
            "Collecting overrides>=5.0 (from jupyter-server<3,>=2.0.0->voila)\n",
            "  Downloading overrides-7.7.0-py3-none-any.whl (17 kB)\n",
            "Requirement already satisfied: packaging>=22.0 in /usr/local/lib/python3.10/dist-packages (from jupyter-server<3,>=2.0.0->voila) (24.0)\n",
            "Requirement already satisfied: prometheus-client>=0.9 in /usr/local/lib/python3.10/dist-packages (from jupyter-server<3,>=2.0.0->voila) (0.20.0)\n",
            "Requirement already satisfied: send2trash>=1.8.2 in /usr/local/lib/python3.10/dist-packages (from jupyter-server<3,>=2.0.0->voila) (1.8.3)\n",
            "Requirement already satisfied: terminado>=0.8.3 in /usr/local/lib/python3.10/dist-packages (from jupyter-server<3,>=2.0.0->voila) (0.18.1)\n",
            "Requirement already satisfied: websocket-client>=1.7 in /usr/local/lib/python3.10/dist-packages (from jupyter-server<3,>=2.0.0->voila) (1.8.0)\n",
            "Requirement already satisfied: babel>=2.10 in /usr/local/lib/python3.10/dist-packages (from jupyterlab-server<3,>=2.3.0->voila) (2.15.0)\n",
            "Collecting json5>=0.9.0 (from jupyterlab-server<3,>=2.3.0->voila)\n",
            "  Downloading json5-0.9.25-py3-none-any.whl (30 kB)\n",
            "Requirement already satisfied: jsonschema>=4.18.0 in /usr/local/lib/python3.10/dist-packages (from jupyterlab-server<3,>=2.3.0->voila) (4.19.2)\n",
            "Requirement already satisfied: requests>=2.31 in /usr/local/lib/python3.10/dist-packages (from jupyterlab-server<3,>=2.3.0->voila) (2.31.0)\n",
            "Requirement already satisfied: lxml in /usr/local/lib/python3.10/dist-packages (from nbconvert<8,>=6.4.5->voila) (4.9.4)\n",
            "Requirement already satisfied: beautifulsoup4 in /usr/local/lib/python3.10/dist-packages (from nbconvert<8,>=6.4.5->voila) (4.12.3)\n",
            "Requirement already satisfied: bleach in /usr/local/lib/python3.10/dist-packages (from nbconvert<8,>=6.4.5->voila) (6.1.0)\n",
            "Requirement already satisfied: defusedxml in /usr/local/lib/python3.10/dist-packages (from nbconvert<8,>=6.4.5->voila) (0.7.1)\n",
            "Requirement already satisfied: entrypoints>=0.2.2 in /usr/local/lib/python3.10/dist-packages (from nbconvert<8,>=6.4.5->voila) (0.4)\n",
            "Requirement already satisfied: jupyterlab-pygments in /usr/local/lib/python3.10/dist-packages (from nbconvert<8,>=6.4.5->voila) (0.3.0)\n",
            "Requirement already satisfied: MarkupSafe>=2.0 in /usr/local/lib/python3.10/dist-packages (from nbconvert<8,>=6.4.5->voila) (2.1.5)\n",
            "Requirement already satisfied: mistune<2,>=0.8.1 in /usr/local/lib/python3.10/dist-packages (from nbconvert<8,>=6.4.5->voila) (0.8.4)\n",
            "Requirement already satisfied: pandocfilters>=1.4.1 in /usr/local/lib/python3.10/dist-packages (from nbconvert<8,>=6.4.5->voila) (1.5.1)\n",
            "Requirement already satisfied: pygments>=2.4.1 in /usr/local/lib/python3.10/dist-packages (from nbconvert<8,>=6.4.5->voila) (2.16.1)\n",
            "Requirement already satisfied: tinycss2 in /usr/local/lib/python3.10/dist-packages (from nbconvert<8,>=6.4.5->voila) (1.3.0)\n",
            "Requirement already satisfied: idna>=2.8 in /usr/local/lib/python3.10/dist-packages (from anyio>=3.1.0->jupyter-server<3,>=2.0.0->voila) (3.7)\n",
            "Requirement already satisfied: sniffio>=1.1 in /usr/local/lib/python3.10/dist-packages (from anyio>=3.1.0->jupyter-server<3,>=2.0.0->voila) (1.3.1)\n",
            "Requirement already satisfied: exceptiongroup in /usr/local/lib/python3.10/dist-packages (from anyio>=3.1.0->jupyter-server<3,>=2.0.0->voila) (1.2.1)\n",
            "Requirement already satisfied: argon2-cffi-bindings in /usr/local/lib/python3.10/dist-packages (from argon2-cffi>=21.1->jupyter-server<3,>=2.0.0->voila) (21.2.0)\n",
            "Requirement already satisfied: attrs>=22.2.0 in /usr/local/lib/python3.10/dist-packages (from jsonschema>=4.18.0->jupyterlab-server<3,>=2.3.0->voila) (23.2.0)\n",
            "Requirement already satisfied: jsonschema-specifications>=2023.03.6 in /usr/local/lib/python3.10/dist-packages (from jsonschema>=4.18.0->jupyterlab-server<3,>=2.3.0->voila) (2023.12.1)\n",
            "Requirement already satisfied: referencing>=0.28.4 in /usr/local/lib/python3.10/dist-packages (from jsonschema>=4.18.0->jupyterlab-server<3,>=2.3.0->voila) (0.35.1)\n",
            "Requirement already satisfied: rpds-py>=0.7.1 in /usr/local/lib/python3.10/dist-packages (from jsonschema>=4.18.0->jupyterlab-server<3,>=2.3.0->voila) (0.18.1)\n",
            "Collecting python-json-logger>=2.0.4 (from jupyter-events>=0.9.0->jupyter-server<3,>=2.0.0->voila)\n",
            "  Downloading python_json_logger-2.0.7-py3-none-any.whl (8.1 kB)\n",
            "Requirement already satisfied: pyyaml>=5.3 in /usr/local/lib/python3.10/dist-packages (from jupyter-events>=0.9.0->jupyter-server<3,>=2.0.0->voila) (6.0.1)\n",
            "Collecting rfc3339-validator (from jupyter-events>=0.9.0->jupyter-server<3,>=2.0.0->voila)\n",
            "  Downloading rfc3339_validator-0.1.4-py2.py3-none-any.whl (3.5 kB)\n",
            "Collecting rfc3986-validator>=0.1.1 (from jupyter-events>=0.9.0->jupyter-server<3,>=2.0.0->voila)\n",
            "  Downloading rfc3986_validator-0.1.1-py2.py3-none-any.whl (4.2 kB)\n",
            "Requirement already satisfied: fastjsonschema>=2.15 in /usr/local/lib/python3.10/dist-packages (from nbformat>=5.3.0->jupyter-server<3,>=2.0.0->voila) (2.19.1)\n",
            "Requirement already satisfied: six>=1.5 in /usr/local/lib/python3.10/dist-packages (from python-dateutil>=2.8.2->jupyter-client<9,>=7.4.4->voila) (1.16.0)\n",
            "Requirement already satisfied: charset-normalizer<4,>=2 in /usr/local/lib/python3.10/dist-packages (from requests>=2.31->jupyterlab-server<3,>=2.3.0->voila) (3.3.2)\n",
            "Requirement already satisfied: urllib3<3,>=1.21.1 in /usr/local/lib/python3.10/dist-packages (from requests>=2.31->jupyterlab-server<3,>=2.3.0->voila) (2.0.7)\n",
            "Requirement already satisfied: certifi>=2017.4.17 in /usr/local/lib/python3.10/dist-packages (from requests>=2.31->jupyterlab-server<3,>=2.3.0->voila) (2024.2.2)\n",
            "Requirement already satisfied: ptyprocess in /usr/local/lib/python3.10/dist-packages (from terminado>=0.8.3->jupyter-server<3,>=2.0.0->voila) (0.7.0)\n",
            "Requirement already satisfied: soupsieve>1.2 in /usr/local/lib/python3.10/dist-packages (from beautifulsoup4->nbconvert<8,>=6.4.5->voila) (2.5)\n",
            "Requirement already satisfied: webencodings in /usr/local/lib/python3.10/dist-packages (from bleach->nbconvert<8,>=6.4.5->voila) (0.5.1)\n",
            "Collecting fqdn (from jsonschema>=4.18.0->jupyterlab-server<3,>=2.3.0->voila)\n",
            "  Downloading fqdn-1.5.1-py3-none-any.whl (9.1 kB)\n",
            "Collecting isoduration (from jsonschema>=4.18.0->jupyterlab-server<3,>=2.3.0->voila)\n",
            "  Downloading isoduration-20.11.0-py3-none-any.whl (11 kB)\n",
            "Collecting jsonpointer>1.13 (from jsonschema>=4.18.0->jupyterlab-server<3,>=2.3.0->voila)\n",
            "  Downloading jsonpointer-2.4-py2.py3-none-any.whl (7.8 kB)\n",
            "Collecting uri-template (from jsonschema>=4.18.0->jupyterlab-server<3,>=2.3.0->voila)\n",
            "  Downloading uri_template-1.3.0-py3-none-any.whl (11 kB)\n",
            "Requirement already satisfied: webcolors>=1.11 in /usr/local/lib/python3.10/dist-packages (from jsonschema>=4.18.0->jupyterlab-server<3,>=2.3.0->voila) (1.13)\n",
            "Requirement already satisfied: cffi>=1.0.1 in /usr/local/lib/python3.10/dist-packages (from argon2-cffi-bindings->argon2-cffi>=21.1->jupyter-server<3,>=2.0.0->voila) (1.16.0)\n",
            "Requirement already satisfied: pycparser in /usr/local/lib/python3.10/dist-packages (from cffi>=1.0.1->argon2-cffi-bindings->argon2-cffi>=21.1->jupyter-server<3,>=2.0.0->voila) (2.22)\n",
            "Collecting arrow>=0.15.0 (from isoduration->jsonschema>=4.18.0->jupyterlab-server<3,>=2.3.0->voila)\n",
            "  Downloading arrow-1.3.0-py3-none-any.whl (66 kB)\n",
            "\u001b[2K     \u001b[90m━━━━━━━━━━━━━━━━━━━━━━━━━━━━━━━━━━━━━━━━\u001b[0m \u001b[32m66.4/66.4 kB\u001b[0m \u001b[31m9.7 MB/s\u001b[0m eta \u001b[36m0:00:00\u001b[0m\n",
            "\u001b[?25hCollecting types-python-dateutil>=2.8.10 (from arrow>=0.15.0->isoduration->jsonschema>=4.18.0->jupyterlab-server<3,>=2.3.0->voila)\n",
            "  Downloading types_python_dateutil-2.9.0.20240316-py3-none-any.whl (9.7 kB)\n",
            "Installing collected packages: websockets, uri-template, types-python-dateutil, rfc3986-validator, rfc3339-validator, python-json-logger, overrides, jsonpointer, json5, fqdn, jupyter-server-terminals, jupyter-client, arrow, isoduration, jupyter-events, jupyter-server, jupyterlab-server, voila\n",
            "  Attempting uninstall: jupyter-client\n",
            "    Found existing installation: jupyter-client 6.1.12\n",
            "    Uninstalling jupyter-client-6.1.12:\n",
            "      Successfully uninstalled jupyter-client-6.1.12\n",
            "  Attempting uninstall: jupyter-server\n",
            "    Found existing installation: jupyter-server 1.24.0\n",
            "    Uninstalling jupyter-server-1.24.0:\n",
            "      Successfully uninstalled jupyter-server-1.24.0\n",
            "\u001b[31mERROR: pip's dependency resolver does not currently take into account all the packages that are installed. This behaviour is the source of the following dependency conflicts.\n",
            "notebook 6.5.5 requires jupyter-client<8,>=5.3.4, but you have jupyter-client 8.6.2 which is incompatible.\u001b[0m\u001b[31m\n",
            "\u001b[0mSuccessfully installed arrow-1.3.0 fqdn-1.5.1 isoduration-20.11.0 json5-0.9.25 jsonpointer-2.4 jupyter-client-8.6.2 jupyter-events-0.10.0 jupyter-server-2.14.1 jupyter-server-terminals-0.5.3 jupyterlab-server-2.27.2 overrides-7.7.0 python-json-logger-2.0.7 rfc3339-validator-0.1.4 rfc3986-validator-0.1.1 types-python-dateutil-2.9.0.20240316 uri-template-1.3.0 voila-0.5.7 websockets-12.0\n"
          ]
        }
      ],
      "source": [
        "pip install voila"
      ]
    },
    {
      "cell_type": "code",
      "execution_count": 2,
      "metadata": {
        "id": "_lF0Wh8nxEIT",
        "colab": {
          "base_uri": "https://localhost:8080/"
        },
        "outputId": "df0d58d0-3f43-4c25-c091-9ab261e0c3ac"
      },
      "outputs": [
        {
          "output_type": "stream",
          "name": "stdout",
          "text": [
            "Requirement already satisfied: seaborn in /usr/local/lib/python3.10/dist-packages (0.13.1)\n",
            "Requirement already satisfied: numpy!=1.24.0,>=1.20 in /usr/local/lib/python3.10/dist-packages (from seaborn) (1.25.2)\n",
            "Requirement already satisfied: pandas>=1.2 in /usr/local/lib/python3.10/dist-packages (from seaborn) (2.0.3)\n",
            "Requirement already satisfied: matplotlib!=3.6.1,>=3.4 in /usr/local/lib/python3.10/dist-packages (from seaborn) (3.7.1)\n",
            "Requirement already satisfied: contourpy>=1.0.1 in /usr/local/lib/python3.10/dist-packages (from matplotlib!=3.6.1,>=3.4->seaborn) (1.2.1)\n",
            "Requirement already satisfied: cycler>=0.10 in /usr/local/lib/python3.10/dist-packages (from matplotlib!=3.6.1,>=3.4->seaborn) (0.12.1)\n",
            "Requirement already satisfied: fonttools>=4.22.0 in /usr/local/lib/python3.10/dist-packages (from matplotlib!=3.6.1,>=3.4->seaborn) (4.52.4)\n",
            "Requirement already satisfied: kiwisolver>=1.0.1 in /usr/local/lib/python3.10/dist-packages (from matplotlib!=3.6.1,>=3.4->seaborn) (1.4.5)\n",
            "Requirement already satisfied: packaging>=20.0 in /usr/local/lib/python3.10/dist-packages (from matplotlib!=3.6.1,>=3.4->seaborn) (24.0)\n",
            "Requirement already satisfied: pillow>=6.2.0 in /usr/local/lib/python3.10/dist-packages (from matplotlib!=3.6.1,>=3.4->seaborn) (9.4.0)\n",
            "Requirement already satisfied: pyparsing>=2.3.1 in /usr/local/lib/python3.10/dist-packages (from matplotlib!=3.6.1,>=3.4->seaborn) (3.1.2)\n",
            "Requirement already satisfied: python-dateutil>=2.7 in /usr/local/lib/python3.10/dist-packages (from matplotlib!=3.6.1,>=3.4->seaborn) (2.8.2)\n",
            "Requirement already satisfied: pytz>=2020.1 in /usr/local/lib/python3.10/dist-packages (from pandas>=1.2->seaborn) (2023.4)\n",
            "Requirement already satisfied: tzdata>=2022.1 in /usr/local/lib/python3.10/dist-packages (from pandas>=1.2->seaborn) (2024.1)\n",
            "Requirement already satisfied: six>=1.5 in /usr/local/lib/python3.10/dist-packages (from python-dateutil>=2.7->matplotlib!=3.6.1,>=3.4->seaborn) (1.16.0)\n"
          ]
        }
      ],
      "source": [
        "pip install seaborn"
      ]
    },
    {
      "cell_type": "code",
      "execution_count": 3,
      "metadata": {
        "id": "wiRV73AdxEIU"
      },
      "outputs": [],
      "source": [
        "import pandas as pd # for data manipulation\n",
        "import numpy as np # for numerical analysis\n"
      ]
    },
    {
      "cell_type": "code",
      "execution_count": 4,
      "metadata": {
        "id": "L4dvPkWvxEIU"
      },
      "outputs": [],
      "source": [
        "# For plottling graphs\n",
        "import seaborn as sns\n",
        "import matplotlib.pyplot as plt\n",
        "\n",
        "# for saving tools\n",
        "import joblib"
      ]
    },
    {
      "cell_type": "code",
      "execution_count": 5,
      "metadata": {
        "id": "Lhwoi8i9xEIV"
      },
      "outputs": [],
      "source": [
        "# Setting Plotting Settings\n",
        "%matplotlib inline\n",
        "sns.set_style(\"darkgrid\")"
      ]
    },
    {
      "cell_type": "markdown",
      "metadata": {
        "id": "LHsCH7u2xEIV"
      },
      "source": [
        "Import Dataset"
      ]
    },
    {
      "cell_type": "code",
      "execution_count": 6,
      "metadata": {
        "id": "shAh6t_4xEIW"
      },
      "outputs": [],
      "source": [
        "parkinsons = pd.read_csv(\"Voice_Dataset.csv\")"
      ]
    },
    {
      "cell_type": "code",
      "execution_count": 7,
      "metadata": {
        "id": "TZfXv1FQxEIW",
        "colab": {
          "base_uri": "https://localhost:8080/",
          "height": 256
        },
        "outputId": "3fee702e-37a7-4b63-c4f3-7a9ea2c7635e"
      },
      "outputs": [
        {
          "output_type": "execute_result",
          "data": {
            "text/plain": [
              "             name  MDVP:Fo(Hz)  MDVP:Fhi(Hz)  MDVP:Flo(Hz)  MDVP:Jitter(%)  \\\n",
              "0  phon_R01_S01_1      119.992       157.302        74.997         0.00784   \n",
              "1  phon_R01_S01_2      122.400       148.650       113.819         0.00968   \n",
              "2  phon_R01_S01_3      116.682       131.111       111.555         0.01050   \n",
              "3  phon_R01_S01_4      116.676       137.871       111.366         0.00997   \n",
              "4  phon_R01_S01_5      116.014       141.781       110.655         0.01284   \n",
              "\n",
              "   MDVP:Jitter(Abs)  MDVP:RAP  MDVP:PPQ  Jitter:DDP  MDVP:Shimmer  ...  \\\n",
              "0           0.00007   0.00370   0.00554     0.01109       0.04374  ...   \n",
              "1           0.00008   0.00465   0.00696     0.01394       0.06134  ...   \n",
              "2           0.00009   0.00544   0.00781     0.01633       0.05233  ...   \n",
              "3           0.00009   0.00502   0.00698     0.01505       0.05492  ...   \n",
              "4           0.00011   0.00655   0.00908     0.01966       0.06425  ...   \n",
              "\n",
              "   Shimmer:DDA      NHR     HNR      RPDE       DFA   spread1   spread2  \\\n",
              "0      0.06545  0.02211  21.033  0.414783  0.815285 -4.813031  0.266482   \n",
              "1      0.09403  0.01929  19.085  0.458359  0.819521 -4.075192  0.335590   \n",
              "2      0.08270  0.01309  20.651  0.429895  0.825288 -4.443179  0.311173   \n",
              "3      0.08771  0.01353  20.644  0.434969  0.819235 -4.117501  0.334147   \n",
              "4      0.10470  0.01767  19.649  0.417356  0.823484 -3.747787  0.234513   \n",
              "\n",
              "         D2       PPE  status  \n",
              "0  2.301442  0.284654       1  \n",
              "1  2.486855  0.368674       1  \n",
              "2  2.342259  0.332634       1  \n",
              "3  2.405554  0.368975       1  \n",
              "4  2.332180  0.410335       1  \n",
              "\n",
              "[5 rows x 24 columns]"
            ],
            "text/html": [
              "\n",
              "  <div id=\"df-397a47dd-7565-45c4-be05-b0fb39062948\" class=\"colab-df-container\">\n",
              "    <div>\n",
              "<style scoped>\n",
              "    .dataframe tbody tr th:only-of-type {\n",
              "        vertical-align: middle;\n",
              "    }\n",
              "\n",
              "    .dataframe tbody tr th {\n",
              "        vertical-align: top;\n",
              "    }\n",
              "\n",
              "    .dataframe thead th {\n",
              "        text-align: right;\n",
              "    }\n",
              "</style>\n",
              "<table border=\"1\" class=\"dataframe\">\n",
              "  <thead>\n",
              "    <tr style=\"text-align: right;\">\n",
              "      <th></th>\n",
              "      <th>name</th>\n",
              "      <th>MDVP:Fo(Hz)</th>\n",
              "      <th>MDVP:Fhi(Hz)</th>\n",
              "      <th>MDVP:Flo(Hz)</th>\n",
              "      <th>MDVP:Jitter(%)</th>\n",
              "      <th>MDVP:Jitter(Abs)</th>\n",
              "      <th>MDVP:RAP</th>\n",
              "      <th>MDVP:PPQ</th>\n",
              "      <th>Jitter:DDP</th>\n",
              "      <th>MDVP:Shimmer</th>\n",
              "      <th>...</th>\n",
              "      <th>Shimmer:DDA</th>\n",
              "      <th>NHR</th>\n",
              "      <th>HNR</th>\n",
              "      <th>RPDE</th>\n",
              "      <th>DFA</th>\n",
              "      <th>spread1</th>\n",
              "      <th>spread2</th>\n",
              "      <th>D2</th>\n",
              "      <th>PPE</th>\n",
              "      <th>status</th>\n",
              "    </tr>\n",
              "  </thead>\n",
              "  <tbody>\n",
              "    <tr>\n",
              "      <th>0</th>\n",
              "      <td>phon_R01_S01_1</td>\n",
              "      <td>119.992</td>\n",
              "      <td>157.302</td>\n",
              "      <td>74.997</td>\n",
              "      <td>0.00784</td>\n",
              "      <td>0.00007</td>\n",
              "      <td>0.00370</td>\n",
              "      <td>0.00554</td>\n",
              "      <td>0.01109</td>\n",
              "      <td>0.04374</td>\n",
              "      <td>...</td>\n",
              "      <td>0.06545</td>\n",
              "      <td>0.02211</td>\n",
              "      <td>21.033</td>\n",
              "      <td>0.414783</td>\n",
              "      <td>0.815285</td>\n",
              "      <td>-4.813031</td>\n",
              "      <td>0.266482</td>\n",
              "      <td>2.301442</td>\n",
              "      <td>0.284654</td>\n",
              "      <td>1</td>\n",
              "    </tr>\n",
              "    <tr>\n",
              "      <th>1</th>\n",
              "      <td>phon_R01_S01_2</td>\n",
              "      <td>122.400</td>\n",
              "      <td>148.650</td>\n",
              "      <td>113.819</td>\n",
              "      <td>0.00968</td>\n",
              "      <td>0.00008</td>\n",
              "      <td>0.00465</td>\n",
              "      <td>0.00696</td>\n",
              "      <td>0.01394</td>\n",
              "      <td>0.06134</td>\n",
              "      <td>...</td>\n",
              "      <td>0.09403</td>\n",
              "      <td>0.01929</td>\n",
              "      <td>19.085</td>\n",
              "      <td>0.458359</td>\n",
              "      <td>0.819521</td>\n",
              "      <td>-4.075192</td>\n",
              "      <td>0.335590</td>\n",
              "      <td>2.486855</td>\n",
              "      <td>0.368674</td>\n",
              "      <td>1</td>\n",
              "    </tr>\n",
              "    <tr>\n",
              "      <th>2</th>\n",
              "      <td>phon_R01_S01_3</td>\n",
              "      <td>116.682</td>\n",
              "      <td>131.111</td>\n",
              "      <td>111.555</td>\n",
              "      <td>0.01050</td>\n",
              "      <td>0.00009</td>\n",
              "      <td>0.00544</td>\n",
              "      <td>0.00781</td>\n",
              "      <td>0.01633</td>\n",
              "      <td>0.05233</td>\n",
              "      <td>...</td>\n",
              "      <td>0.08270</td>\n",
              "      <td>0.01309</td>\n",
              "      <td>20.651</td>\n",
              "      <td>0.429895</td>\n",
              "      <td>0.825288</td>\n",
              "      <td>-4.443179</td>\n",
              "      <td>0.311173</td>\n",
              "      <td>2.342259</td>\n",
              "      <td>0.332634</td>\n",
              "      <td>1</td>\n",
              "    </tr>\n",
              "    <tr>\n",
              "      <th>3</th>\n",
              "      <td>phon_R01_S01_4</td>\n",
              "      <td>116.676</td>\n",
              "      <td>137.871</td>\n",
              "      <td>111.366</td>\n",
              "      <td>0.00997</td>\n",
              "      <td>0.00009</td>\n",
              "      <td>0.00502</td>\n",
              "      <td>0.00698</td>\n",
              "      <td>0.01505</td>\n",
              "      <td>0.05492</td>\n",
              "      <td>...</td>\n",
              "      <td>0.08771</td>\n",
              "      <td>0.01353</td>\n",
              "      <td>20.644</td>\n",
              "      <td>0.434969</td>\n",
              "      <td>0.819235</td>\n",
              "      <td>-4.117501</td>\n",
              "      <td>0.334147</td>\n",
              "      <td>2.405554</td>\n",
              "      <td>0.368975</td>\n",
              "      <td>1</td>\n",
              "    </tr>\n",
              "    <tr>\n",
              "      <th>4</th>\n",
              "      <td>phon_R01_S01_5</td>\n",
              "      <td>116.014</td>\n",
              "      <td>141.781</td>\n",
              "      <td>110.655</td>\n",
              "      <td>0.01284</td>\n",
              "      <td>0.00011</td>\n",
              "      <td>0.00655</td>\n",
              "      <td>0.00908</td>\n",
              "      <td>0.01966</td>\n",
              "      <td>0.06425</td>\n",
              "      <td>...</td>\n",
              "      <td>0.10470</td>\n",
              "      <td>0.01767</td>\n",
              "      <td>19.649</td>\n",
              "      <td>0.417356</td>\n",
              "      <td>0.823484</td>\n",
              "      <td>-3.747787</td>\n",
              "      <td>0.234513</td>\n",
              "      <td>2.332180</td>\n",
              "      <td>0.410335</td>\n",
              "      <td>1</td>\n",
              "    </tr>\n",
              "  </tbody>\n",
              "</table>\n",
              "<p>5 rows × 24 columns</p>\n",
              "</div>\n",
              "    <div class=\"colab-df-buttons\">\n",
              "\n",
              "  <div class=\"colab-df-container\">\n",
              "    <button class=\"colab-df-convert\" onclick=\"convertToInteractive('df-397a47dd-7565-45c4-be05-b0fb39062948')\"\n",
              "            title=\"Convert this dataframe to an interactive table.\"\n",
              "            style=\"display:none;\">\n",
              "\n",
              "  <svg xmlns=\"http://www.w3.org/2000/svg\" height=\"24px\" viewBox=\"0 -960 960 960\">\n",
              "    <path d=\"M120-120v-720h720v720H120Zm60-500h600v-160H180v160Zm220 220h160v-160H400v160Zm0 220h160v-160H400v160ZM180-400h160v-160H180v160Zm440 0h160v-160H620v160ZM180-180h160v-160H180v160Zm440 0h160v-160H620v160Z\"/>\n",
              "  </svg>\n",
              "    </button>\n",
              "\n",
              "  <style>\n",
              "    .colab-df-container {\n",
              "      display:flex;\n",
              "      gap: 12px;\n",
              "    }\n",
              "\n",
              "    .colab-df-convert {\n",
              "      background-color: #E8F0FE;\n",
              "      border: none;\n",
              "      border-radius: 50%;\n",
              "      cursor: pointer;\n",
              "      display: none;\n",
              "      fill: #1967D2;\n",
              "      height: 32px;\n",
              "      padding: 0 0 0 0;\n",
              "      width: 32px;\n",
              "    }\n",
              "\n",
              "    .colab-df-convert:hover {\n",
              "      background-color: #E2EBFA;\n",
              "      box-shadow: 0px 1px 2px rgba(60, 64, 67, 0.3), 0px 1px 3px 1px rgba(60, 64, 67, 0.15);\n",
              "      fill: #174EA6;\n",
              "    }\n",
              "\n",
              "    .colab-df-buttons div {\n",
              "      margin-bottom: 4px;\n",
              "    }\n",
              "\n",
              "    [theme=dark] .colab-df-convert {\n",
              "      background-color: #3B4455;\n",
              "      fill: #D2E3FC;\n",
              "    }\n",
              "\n",
              "    [theme=dark] .colab-df-convert:hover {\n",
              "      background-color: #434B5C;\n",
              "      box-shadow: 0px 1px 3px 1px rgba(0, 0, 0, 0.15);\n",
              "      filter: drop-shadow(0px 1px 2px rgba(0, 0, 0, 0.3));\n",
              "      fill: #FFFFFF;\n",
              "    }\n",
              "  </style>\n",
              "\n",
              "    <script>\n",
              "      const buttonEl =\n",
              "        document.querySelector('#df-397a47dd-7565-45c4-be05-b0fb39062948 button.colab-df-convert');\n",
              "      buttonEl.style.display =\n",
              "        google.colab.kernel.accessAllowed ? 'block' : 'none';\n",
              "\n",
              "      async function convertToInteractive(key) {\n",
              "        const element = document.querySelector('#df-397a47dd-7565-45c4-be05-b0fb39062948');\n",
              "        const dataTable =\n",
              "          await google.colab.kernel.invokeFunction('convertToInteractive',\n",
              "                                                    [key], {});\n",
              "        if (!dataTable) return;\n",
              "\n",
              "        const docLinkHtml = 'Like what you see? Visit the ' +\n",
              "          '<a target=\"_blank\" href=https://colab.research.google.com/notebooks/data_table.ipynb>data table notebook</a>'\n",
              "          + ' to learn more about interactive tables.';\n",
              "        element.innerHTML = '';\n",
              "        dataTable['output_type'] = 'display_data';\n",
              "        await google.colab.output.renderOutput(dataTable, element);\n",
              "        const docLink = document.createElement('div');\n",
              "        docLink.innerHTML = docLinkHtml;\n",
              "        element.appendChild(docLink);\n",
              "      }\n",
              "    </script>\n",
              "  </div>\n",
              "\n",
              "\n",
              "<div id=\"df-c3a1c49e-b7d5-45d9-8d23-7723cb2c3ddc\">\n",
              "  <button class=\"colab-df-quickchart\" onclick=\"quickchart('df-c3a1c49e-b7d5-45d9-8d23-7723cb2c3ddc')\"\n",
              "            title=\"Suggest charts\"\n",
              "            style=\"display:none;\">\n",
              "\n",
              "<svg xmlns=\"http://www.w3.org/2000/svg\" height=\"24px\"viewBox=\"0 0 24 24\"\n",
              "     width=\"24px\">\n",
              "    <g>\n",
              "        <path d=\"M19 3H5c-1.1 0-2 .9-2 2v14c0 1.1.9 2 2 2h14c1.1 0 2-.9 2-2V5c0-1.1-.9-2-2-2zM9 17H7v-7h2v7zm4 0h-2V7h2v10zm4 0h-2v-4h2v4z\"/>\n",
              "    </g>\n",
              "</svg>\n",
              "  </button>\n",
              "\n",
              "<style>\n",
              "  .colab-df-quickchart {\n",
              "      --bg-color: #E8F0FE;\n",
              "      --fill-color: #1967D2;\n",
              "      --hover-bg-color: #E2EBFA;\n",
              "      --hover-fill-color: #174EA6;\n",
              "      --disabled-fill-color: #AAA;\n",
              "      --disabled-bg-color: #DDD;\n",
              "  }\n",
              "\n",
              "  [theme=dark] .colab-df-quickchart {\n",
              "      --bg-color: #3B4455;\n",
              "      --fill-color: #D2E3FC;\n",
              "      --hover-bg-color: #434B5C;\n",
              "      --hover-fill-color: #FFFFFF;\n",
              "      --disabled-bg-color: #3B4455;\n",
              "      --disabled-fill-color: #666;\n",
              "  }\n",
              "\n",
              "  .colab-df-quickchart {\n",
              "    background-color: var(--bg-color);\n",
              "    border: none;\n",
              "    border-radius: 50%;\n",
              "    cursor: pointer;\n",
              "    display: none;\n",
              "    fill: var(--fill-color);\n",
              "    height: 32px;\n",
              "    padding: 0;\n",
              "    width: 32px;\n",
              "  }\n",
              "\n",
              "  .colab-df-quickchart:hover {\n",
              "    background-color: var(--hover-bg-color);\n",
              "    box-shadow: 0 1px 2px rgba(60, 64, 67, 0.3), 0 1px 3px 1px rgba(60, 64, 67, 0.15);\n",
              "    fill: var(--button-hover-fill-color);\n",
              "  }\n",
              "\n",
              "  .colab-df-quickchart-complete:disabled,\n",
              "  .colab-df-quickchart-complete:disabled:hover {\n",
              "    background-color: var(--disabled-bg-color);\n",
              "    fill: var(--disabled-fill-color);\n",
              "    box-shadow: none;\n",
              "  }\n",
              "\n",
              "  .colab-df-spinner {\n",
              "    border: 2px solid var(--fill-color);\n",
              "    border-color: transparent;\n",
              "    border-bottom-color: var(--fill-color);\n",
              "    animation:\n",
              "      spin 1s steps(1) infinite;\n",
              "  }\n",
              "\n",
              "  @keyframes spin {\n",
              "    0% {\n",
              "      border-color: transparent;\n",
              "      border-bottom-color: var(--fill-color);\n",
              "      border-left-color: var(--fill-color);\n",
              "    }\n",
              "    20% {\n",
              "      border-color: transparent;\n",
              "      border-left-color: var(--fill-color);\n",
              "      border-top-color: var(--fill-color);\n",
              "    }\n",
              "    30% {\n",
              "      border-color: transparent;\n",
              "      border-left-color: var(--fill-color);\n",
              "      border-top-color: var(--fill-color);\n",
              "      border-right-color: var(--fill-color);\n",
              "    }\n",
              "    40% {\n",
              "      border-color: transparent;\n",
              "      border-right-color: var(--fill-color);\n",
              "      border-top-color: var(--fill-color);\n",
              "    }\n",
              "    60% {\n",
              "      border-color: transparent;\n",
              "      border-right-color: var(--fill-color);\n",
              "    }\n",
              "    80% {\n",
              "      border-color: transparent;\n",
              "      border-right-color: var(--fill-color);\n",
              "      border-bottom-color: var(--fill-color);\n",
              "    }\n",
              "    90% {\n",
              "      border-color: transparent;\n",
              "      border-bottom-color: var(--fill-color);\n",
              "    }\n",
              "  }\n",
              "</style>\n",
              "\n",
              "  <script>\n",
              "    async function quickchart(key) {\n",
              "      const quickchartButtonEl =\n",
              "        document.querySelector('#' + key + ' button');\n",
              "      quickchartButtonEl.disabled = true;  // To prevent multiple clicks.\n",
              "      quickchartButtonEl.classList.add('colab-df-spinner');\n",
              "      try {\n",
              "        const charts = await google.colab.kernel.invokeFunction(\n",
              "            'suggestCharts', [key], {});\n",
              "      } catch (error) {\n",
              "        console.error('Error during call to suggestCharts:', error);\n",
              "      }\n",
              "      quickchartButtonEl.classList.remove('colab-df-spinner');\n",
              "      quickchartButtonEl.classList.add('colab-df-quickchart-complete');\n",
              "    }\n",
              "    (() => {\n",
              "      let quickchartButtonEl =\n",
              "        document.querySelector('#df-c3a1c49e-b7d5-45d9-8d23-7723cb2c3ddc button');\n",
              "      quickchartButtonEl.style.display =\n",
              "        google.colab.kernel.accessAllowed ? 'block' : 'none';\n",
              "    })();\n",
              "  </script>\n",
              "</div>\n",
              "\n",
              "    </div>\n",
              "  </div>\n"
            ],
            "application/vnd.google.colaboratory.intrinsic+json": {
              "type": "dataframe",
              "variable_name": "parkinsons"
            }
          },
          "metadata": {},
          "execution_count": 7
        }
      ],
      "source": [
        "# Checking First 5 rows of data\n",
        "parkinsons.head()"
      ]
    },
    {
      "cell_type": "markdown",
      "metadata": {
        "id": "sfHgGxMgxEIX"
      },
      "source": [
        "Checking basic information about the dataset"
      ]
    },
    {
      "cell_type": "code",
      "execution_count": 8,
      "metadata": {
        "id": "qVcymhPvxEIY",
        "colab": {
          "base_uri": "https://localhost:8080/"
        },
        "outputId": "55225511-e916-4046-9cb7-8a13fa38184c"
      },
      "outputs": [
        {
          "output_type": "stream",
          "name": "stdout",
          "text": [
            "<class 'pandas.core.frame.DataFrame'>\n",
            "RangeIndex: 195 entries, 0 to 194\n",
            "Data columns (total 24 columns):\n",
            " #   Column            Non-Null Count  Dtype  \n",
            "---  ------            --------------  -----  \n",
            " 0   name              195 non-null    object \n",
            " 1   MDVP:Fo(Hz)       195 non-null    float64\n",
            " 2   MDVP:Fhi(Hz)      195 non-null    float64\n",
            " 3   MDVP:Flo(Hz)      195 non-null    float64\n",
            " 4   MDVP:Jitter(%)    195 non-null    float64\n",
            " 5   MDVP:Jitter(Abs)  195 non-null    float64\n",
            " 6   MDVP:RAP          195 non-null    float64\n",
            " 7   MDVP:PPQ          195 non-null    float64\n",
            " 8   Jitter:DDP        195 non-null    float64\n",
            " 9   MDVP:Shimmer      195 non-null    float64\n",
            " 10  MDVP:Shimmer(dB)  195 non-null    float64\n",
            " 11  Shimmer:APQ3      195 non-null    float64\n",
            " 12  Shimmer:APQ5      195 non-null    float64\n",
            " 13  MDVP:APQ          195 non-null    float64\n",
            " 14  Shimmer:DDA       195 non-null    float64\n",
            " 15  NHR               195 non-null    float64\n",
            " 16  HNR               195 non-null    float64\n",
            " 17  RPDE              195 non-null    float64\n",
            " 18  DFA               195 non-null    float64\n",
            " 19  spread1           195 non-null    float64\n",
            " 20  spread2           195 non-null    float64\n",
            " 21  D2                195 non-null    float64\n",
            " 22  PPE               195 non-null    float64\n",
            " 23  status            195 non-null    int64  \n",
            "dtypes: float64(22), int64(1), object(1)\n",
            "memory usage: 36.7+ KB\n"
          ]
        }
      ],
      "source": [
        "parkinsons.info()"
      ]
    },
    {
      "cell_type": "code",
      "execution_count": 9,
      "metadata": {
        "id": "woObu6M1xEIZ",
        "colab": {
          "base_uri": "https://localhost:8080/"
        },
        "outputId": "6f7ed5ee-2baf-4264-a1ae-bdf937c4ff8c"
      },
      "outputs": [
        {
          "output_type": "execute_result",
          "data": {
            "text/plain": [
              "Index(['name', 'MDVP:Fo(Hz)', 'MDVP:Fhi(Hz)', 'MDVP:Flo(Hz)', 'MDVP:Jitter(%)',\n",
              "       'MDVP:Jitter(Abs)', 'MDVP:RAP', 'MDVP:PPQ', 'Jitter:DDP',\n",
              "       'MDVP:Shimmer', 'MDVP:Shimmer(dB)', 'Shimmer:APQ3', 'Shimmer:APQ5',\n",
              "       'MDVP:APQ', 'Shimmer:DDA', 'NHR', 'HNR', 'RPDE', 'DFA', 'spread1',\n",
              "       'spread2', 'D2', 'PPE', 'status'],\n",
              "      dtype='object')"
            ]
          },
          "metadata": {},
          "execution_count": 9
        }
      ],
      "source": [
        "parkinsons.columns"
      ]
    },
    {
      "cell_type": "markdown",
      "metadata": {
        "id": "IfJquY48xEIa"
      },
      "source": [
        "### Data Preprocessing"
      ]
    },
    {
      "cell_type": "markdown",
      "metadata": {
        "id": "vEXUCYP1xEIb"
      },
      "source": [
        "#### Data Shuffle and Split\n",
        "It is good pratice to split the dataset before preprocessing to avoid data leakage, shuffling the data adds randomness which can boost model performance"
      ]
    },
    {
      "cell_type": "code",
      "execution_count": 10,
      "metadata": {
        "id": "3TqWpD9jxEIb"
      },
      "outputs": [],
      "source": [
        "# Shuffling the data\n",
        "parkinsons = parkinsons.sample(frac=1, random_state=42).copy()"
      ]
    },
    {
      "cell_type": "code",
      "execution_count": 11,
      "metadata": {
        "id": "Tcj89uuExEIc"
      },
      "outputs": [],
      "source": [
        "# Splitting the data into train and test data\n",
        "from sklearn.model_selection import train_test_split\n",
        "X = parkinsons.drop([\"name\", \"status\"], axis=1)\n",
        "y = parkinsons[\"status\"]\n",
        "X_train, X_test, y_train, y_test = train_test_split(X, y, test_size=0.2, random_state=51)"
      ]
    },
    {
      "cell_type": "code",
      "execution_count": 12,
      "metadata": {
        "id": "9ob5pwBFxEId",
        "colab": {
          "base_uri": "https://localhost:8080/",
          "height": 444
        },
        "outputId": "91dc7bbd-0183-4300-9f1d-384b6c6da417"
      },
      "outputs": [
        {
          "output_type": "execute_result",
          "data": {
            "text/plain": [
              "     MDVP:Fo(Hz)  MDVP:Fhi(Hz)  MDVP:Flo(Hz)  MDVP:Jitter(%)  \\\n",
              "110      200.714       223.982        89.686         0.00621   \n",
              "38       180.198       201.249       175.456         0.00284   \n",
              "149      202.632       565.740       177.258         0.01627   \n",
              "111      208.519       220.315       199.020         0.00609   \n",
              "119      217.116       233.481        93.978         0.00404   \n",
              "..           ...           ...           ...             ...   \n",
              "125      145.174       198.109        80.637         0.00733   \n",
              "103      150.258       154.609        75.349         0.00248   \n",
              "13       139.173       179.139        76.556         0.00390   \n",
              "69       148.090       162.824        67.343         0.00762   \n",
              "51       126.344       134.231       112.773         0.00448   \n",
              "\n",
              "     MDVP:Jitter(Abs)  MDVP:RAP  MDVP:PPQ  Jitter:DDP  MDVP:Shimmer  \\\n",
              "110           0.00003   0.00371   0.00337     0.01112       0.02286   \n",
              "38            0.00002   0.00153   0.00166     0.00459       0.01444   \n",
              "149           0.00008   0.00919   0.00963     0.02756       0.07170   \n",
              "111           0.00003   0.00368   0.00339     0.01105       0.01761   \n",
              "119           0.00002   0.00127   0.00128     0.00381       0.01299   \n",
              "..                ...       ...       ...         ...           ...   \n",
              "125           0.00005   0.00414   0.00422     0.01242       0.02362   \n",
              "103           0.00002   0.00105   0.00136     0.00315       0.01131   \n",
              "13            0.00003   0.00165   0.00208     0.00496       0.01642   \n",
              "69            0.00005   0.00467   0.00354     0.01400       0.05428   \n",
              "51            0.00004   0.00131   0.00169     0.00393       0.02033   \n",
              "\n",
              "     MDVP:Shimmer(dB)  ...  MDVP:APQ  Shimmer:DDA      NHR     HNR      RPDE  \\\n",
              "110             0.207  ...   0.01852      0.03576  0.00704  23.239  0.436084   \n",
              "38              0.131  ...   0.01190      0.02177  0.00231  26.738  0.403884   \n",
              "149             0.833  ...   0.06460      0.10546  0.07889  14.989  0.427627   \n",
              "111             0.155  ...   0.01307      0.02855  0.00830  22.407  0.338097   \n",
              "119             0.124  ...   0.01075      0.02038  0.00681  24.581  0.462516   \n",
              "..                ...  ...       ...          ...      ...     ...       ...   \n",
              "125             0.233  ...   0.01944      0.03706  0.01874  18.857  0.637518   \n",
              "103             0.107  ...   0.01009      0.01567  0.00495  26.759  0.296888   \n",
              "13              0.154  ...   0.01797      0.02184  0.01041  24.889  0.430166   \n",
              "69              0.497  ...   0.03635      0.10070  0.02431  21.718  0.487407   \n",
              "51              0.185  ...   0.01614      0.03429  0.00474  25.030  0.507504   \n",
              "\n",
              "          DFA   spread1   spread2        D2       PPE  \n",
              "110  0.727863 -5.258320  0.256454  2.550961  0.232520  \n",
              "38   0.766209 -6.452058  0.212294  2.269398  0.141929  \n",
              "149  0.775708 -4.892495  0.262281  2.910213  0.270173  \n",
              "111  0.712466 -6.471427  0.184378  2.502336  0.136390  \n",
              "119  0.582710 -5.517173  0.389295  2.925862  0.220657  \n",
              "..        ...       ...       ...       ...       ...  \n",
              "125  0.735546 -5.594275  0.127950  1.765957  0.222716  \n",
              "103  0.722356 -6.878393  0.089267  2.004055  0.113942  \n",
              "13   0.665833 -5.660217  0.254989  2.519422  0.199889  \n",
              "69   0.727313 -6.261141  0.120956  2.137075  0.141958  \n",
              "51   0.760361 -6.689151  0.291954  2.431854  0.105993  \n",
              "\n",
              "[156 rows x 22 columns]"
            ],
            "text/html": [
              "\n",
              "  <div id=\"df-37fa9dfa-b9f1-421f-a5ff-392be45917a3\" class=\"colab-df-container\">\n",
              "    <div>\n",
              "<style scoped>\n",
              "    .dataframe tbody tr th:only-of-type {\n",
              "        vertical-align: middle;\n",
              "    }\n",
              "\n",
              "    .dataframe tbody tr th {\n",
              "        vertical-align: top;\n",
              "    }\n",
              "\n",
              "    .dataframe thead th {\n",
              "        text-align: right;\n",
              "    }\n",
              "</style>\n",
              "<table border=\"1\" class=\"dataframe\">\n",
              "  <thead>\n",
              "    <tr style=\"text-align: right;\">\n",
              "      <th></th>\n",
              "      <th>MDVP:Fo(Hz)</th>\n",
              "      <th>MDVP:Fhi(Hz)</th>\n",
              "      <th>MDVP:Flo(Hz)</th>\n",
              "      <th>MDVP:Jitter(%)</th>\n",
              "      <th>MDVP:Jitter(Abs)</th>\n",
              "      <th>MDVP:RAP</th>\n",
              "      <th>MDVP:PPQ</th>\n",
              "      <th>Jitter:DDP</th>\n",
              "      <th>MDVP:Shimmer</th>\n",
              "      <th>MDVP:Shimmer(dB)</th>\n",
              "      <th>...</th>\n",
              "      <th>MDVP:APQ</th>\n",
              "      <th>Shimmer:DDA</th>\n",
              "      <th>NHR</th>\n",
              "      <th>HNR</th>\n",
              "      <th>RPDE</th>\n",
              "      <th>DFA</th>\n",
              "      <th>spread1</th>\n",
              "      <th>spread2</th>\n",
              "      <th>D2</th>\n",
              "      <th>PPE</th>\n",
              "    </tr>\n",
              "  </thead>\n",
              "  <tbody>\n",
              "    <tr>\n",
              "      <th>110</th>\n",
              "      <td>200.714</td>\n",
              "      <td>223.982</td>\n",
              "      <td>89.686</td>\n",
              "      <td>0.00621</td>\n",
              "      <td>0.00003</td>\n",
              "      <td>0.00371</td>\n",
              "      <td>0.00337</td>\n",
              "      <td>0.01112</td>\n",
              "      <td>0.02286</td>\n",
              "      <td>0.207</td>\n",
              "      <td>...</td>\n",
              "      <td>0.01852</td>\n",
              "      <td>0.03576</td>\n",
              "      <td>0.00704</td>\n",
              "      <td>23.239</td>\n",
              "      <td>0.436084</td>\n",
              "      <td>0.727863</td>\n",
              "      <td>-5.258320</td>\n",
              "      <td>0.256454</td>\n",
              "      <td>2.550961</td>\n",
              "      <td>0.232520</td>\n",
              "    </tr>\n",
              "    <tr>\n",
              "      <th>38</th>\n",
              "      <td>180.198</td>\n",
              "      <td>201.249</td>\n",
              "      <td>175.456</td>\n",
              "      <td>0.00284</td>\n",
              "      <td>0.00002</td>\n",
              "      <td>0.00153</td>\n",
              "      <td>0.00166</td>\n",
              "      <td>0.00459</td>\n",
              "      <td>0.01444</td>\n",
              "      <td>0.131</td>\n",
              "      <td>...</td>\n",
              "      <td>0.01190</td>\n",
              "      <td>0.02177</td>\n",
              "      <td>0.00231</td>\n",
              "      <td>26.738</td>\n",
              "      <td>0.403884</td>\n",
              "      <td>0.766209</td>\n",
              "      <td>-6.452058</td>\n",
              "      <td>0.212294</td>\n",
              "      <td>2.269398</td>\n",
              "      <td>0.141929</td>\n",
              "    </tr>\n",
              "    <tr>\n",
              "      <th>149</th>\n",
              "      <td>202.632</td>\n",
              "      <td>565.740</td>\n",
              "      <td>177.258</td>\n",
              "      <td>0.01627</td>\n",
              "      <td>0.00008</td>\n",
              "      <td>0.00919</td>\n",
              "      <td>0.00963</td>\n",
              "      <td>0.02756</td>\n",
              "      <td>0.07170</td>\n",
              "      <td>0.833</td>\n",
              "      <td>...</td>\n",
              "      <td>0.06460</td>\n",
              "      <td>0.10546</td>\n",
              "      <td>0.07889</td>\n",
              "      <td>14.989</td>\n",
              "      <td>0.427627</td>\n",
              "      <td>0.775708</td>\n",
              "      <td>-4.892495</td>\n",
              "      <td>0.262281</td>\n",
              "      <td>2.910213</td>\n",
              "      <td>0.270173</td>\n",
              "    </tr>\n",
              "    <tr>\n",
              "      <th>111</th>\n",
              "      <td>208.519</td>\n",
              "      <td>220.315</td>\n",
              "      <td>199.020</td>\n",
              "      <td>0.00609</td>\n",
              "      <td>0.00003</td>\n",
              "      <td>0.00368</td>\n",
              "      <td>0.00339</td>\n",
              "      <td>0.01105</td>\n",
              "      <td>0.01761</td>\n",
              "      <td>0.155</td>\n",
              "      <td>...</td>\n",
              "      <td>0.01307</td>\n",
              "      <td>0.02855</td>\n",
              "      <td>0.00830</td>\n",
              "      <td>22.407</td>\n",
              "      <td>0.338097</td>\n",
              "      <td>0.712466</td>\n",
              "      <td>-6.471427</td>\n",
              "      <td>0.184378</td>\n",
              "      <td>2.502336</td>\n",
              "      <td>0.136390</td>\n",
              "    </tr>\n",
              "    <tr>\n",
              "      <th>119</th>\n",
              "      <td>217.116</td>\n",
              "      <td>233.481</td>\n",
              "      <td>93.978</td>\n",
              "      <td>0.00404</td>\n",
              "      <td>0.00002</td>\n",
              "      <td>0.00127</td>\n",
              "      <td>0.00128</td>\n",
              "      <td>0.00381</td>\n",
              "      <td>0.01299</td>\n",
              "      <td>0.124</td>\n",
              "      <td>...</td>\n",
              "      <td>0.01075</td>\n",
              "      <td>0.02038</td>\n",
              "      <td>0.00681</td>\n",
              "      <td>24.581</td>\n",
              "      <td>0.462516</td>\n",
              "      <td>0.582710</td>\n",
              "      <td>-5.517173</td>\n",
              "      <td>0.389295</td>\n",
              "      <td>2.925862</td>\n",
              "      <td>0.220657</td>\n",
              "    </tr>\n",
              "    <tr>\n",
              "      <th>...</th>\n",
              "      <td>...</td>\n",
              "      <td>...</td>\n",
              "      <td>...</td>\n",
              "      <td>...</td>\n",
              "      <td>...</td>\n",
              "      <td>...</td>\n",
              "      <td>...</td>\n",
              "      <td>...</td>\n",
              "      <td>...</td>\n",
              "      <td>...</td>\n",
              "      <td>...</td>\n",
              "      <td>...</td>\n",
              "      <td>...</td>\n",
              "      <td>...</td>\n",
              "      <td>...</td>\n",
              "      <td>...</td>\n",
              "      <td>...</td>\n",
              "      <td>...</td>\n",
              "      <td>...</td>\n",
              "      <td>...</td>\n",
              "      <td>...</td>\n",
              "    </tr>\n",
              "    <tr>\n",
              "      <th>125</th>\n",
              "      <td>145.174</td>\n",
              "      <td>198.109</td>\n",
              "      <td>80.637</td>\n",
              "      <td>0.00733</td>\n",
              "      <td>0.00005</td>\n",
              "      <td>0.00414</td>\n",
              "      <td>0.00422</td>\n",
              "      <td>0.01242</td>\n",
              "      <td>0.02362</td>\n",
              "      <td>0.233</td>\n",
              "      <td>...</td>\n",
              "      <td>0.01944</td>\n",
              "      <td>0.03706</td>\n",
              "      <td>0.01874</td>\n",
              "      <td>18.857</td>\n",
              "      <td>0.637518</td>\n",
              "      <td>0.735546</td>\n",
              "      <td>-5.594275</td>\n",
              "      <td>0.127950</td>\n",
              "      <td>1.765957</td>\n",
              "      <td>0.222716</td>\n",
              "    </tr>\n",
              "    <tr>\n",
              "      <th>103</th>\n",
              "      <td>150.258</td>\n",
              "      <td>154.609</td>\n",
              "      <td>75.349</td>\n",
              "      <td>0.00248</td>\n",
              "      <td>0.00002</td>\n",
              "      <td>0.00105</td>\n",
              "      <td>0.00136</td>\n",
              "      <td>0.00315</td>\n",
              "      <td>0.01131</td>\n",
              "      <td>0.107</td>\n",
              "      <td>...</td>\n",
              "      <td>0.01009</td>\n",
              "      <td>0.01567</td>\n",
              "      <td>0.00495</td>\n",
              "      <td>26.759</td>\n",
              "      <td>0.296888</td>\n",
              "      <td>0.722356</td>\n",
              "      <td>-6.878393</td>\n",
              "      <td>0.089267</td>\n",
              "      <td>2.004055</td>\n",
              "      <td>0.113942</td>\n",
              "    </tr>\n",
              "    <tr>\n",
              "      <th>13</th>\n",
              "      <td>139.173</td>\n",
              "      <td>179.139</td>\n",
              "      <td>76.556</td>\n",
              "      <td>0.00390</td>\n",
              "      <td>0.00003</td>\n",
              "      <td>0.00165</td>\n",
              "      <td>0.00208</td>\n",
              "      <td>0.00496</td>\n",
              "      <td>0.01642</td>\n",
              "      <td>0.154</td>\n",
              "      <td>...</td>\n",
              "      <td>0.01797</td>\n",
              "      <td>0.02184</td>\n",
              "      <td>0.01041</td>\n",
              "      <td>24.889</td>\n",
              "      <td>0.430166</td>\n",
              "      <td>0.665833</td>\n",
              "      <td>-5.660217</td>\n",
              "      <td>0.254989</td>\n",
              "      <td>2.519422</td>\n",
              "      <td>0.199889</td>\n",
              "    </tr>\n",
              "    <tr>\n",
              "      <th>69</th>\n",
              "      <td>148.090</td>\n",
              "      <td>162.824</td>\n",
              "      <td>67.343</td>\n",
              "      <td>0.00762</td>\n",
              "      <td>0.00005</td>\n",
              "      <td>0.00467</td>\n",
              "      <td>0.00354</td>\n",
              "      <td>0.01400</td>\n",
              "      <td>0.05428</td>\n",
              "      <td>0.497</td>\n",
              "      <td>...</td>\n",
              "      <td>0.03635</td>\n",
              "      <td>0.10070</td>\n",
              "      <td>0.02431</td>\n",
              "      <td>21.718</td>\n",
              "      <td>0.487407</td>\n",
              "      <td>0.727313</td>\n",
              "      <td>-6.261141</td>\n",
              "      <td>0.120956</td>\n",
              "      <td>2.137075</td>\n",
              "      <td>0.141958</td>\n",
              "    </tr>\n",
              "    <tr>\n",
              "      <th>51</th>\n",
              "      <td>126.344</td>\n",
              "      <td>134.231</td>\n",
              "      <td>112.773</td>\n",
              "      <td>0.00448</td>\n",
              "      <td>0.00004</td>\n",
              "      <td>0.00131</td>\n",
              "      <td>0.00169</td>\n",
              "      <td>0.00393</td>\n",
              "      <td>0.02033</td>\n",
              "      <td>0.185</td>\n",
              "      <td>...</td>\n",
              "      <td>0.01614</td>\n",
              "      <td>0.03429</td>\n",
              "      <td>0.00474</td>\n",
              "      <td>25.030</td>\n",
              "      <td>0.507504</td>\n",
              "      <td>0.760361</td>\n",
              "      <td>-6.689151</td>\n",
              "      <td>0.291954</td>\n",
              "      <td>2.431854</td>\n",
              "      <td>0.105993</td>\n",
              "    </tr>\n",
              "  </tbody>\n",
              "</table>\n",
              "<p>156 rows × 22 columns</p>\n",
              "</div>\n",
              "    <div class=\"colab-df-buttons\">\n",
              "\n",
              "  <div class=\"colab-df-container\">\n",
              "    <button class=\"colab-df-convert\" onclick=\"convertToInteractive('df-37fa9dfa-b9f1-421f-a5ff-392be45917a3')\"\n",
              "            title=\"Convert this dataframe to an interactive table.\"\n",
              "            style=\"display:none;\">\n",
              "\n",
              "  <svg xmlns=\"http://www.w3.org/2000/svg\" height=\"24px\" viewBox=\"0 -960 960 960\">\n",
              "    <path d=\"M120-120v-720h720v720H120Zm60-500h600v-160H180v160Zm220 220h160v-160H400v160Zm0 220h160v-160H400v160ZM180-400h160v-160H180v160Zm440 0h160v-160H620v160ZM180-180h160v-160H180v160Zm440 0h160v-160H620v160Z\"/>\n",
              "  </svg>\n",
              "    </button>\n",
              "\n",
              "  <style>\n",
              "    .colab-df-container {\n",
              "      display:flex;\n",
              "      gap: 12px;\n",
              "    }\n",
              "\n",
              "    .colab-df-convert {\n",
              "      background-color: #E8F0FE;\n",
              "      border: none;\n",
              "      border-radius: 50%;\n",
              "      cursor: pointer;\n",
              "      display: none;\n",
              "      fill: #1967D2;\n",
              "      height: 32px;\n",
              "      padding: 0 0 0 0;\n",
              "      width: 32px;\n",
              "    }\n",
              "\n",
              "    .colab-df-convert:hover {\n",
              "      background-color: #E2EBFA;\n",
              "      box-shadow: 0px 1px 2px rgba(60, 64, 67, 0.3), 0px 1px 3px 1px rgba(60, 64, 67, 0.15);\n",
              "      fill: #174EA6;\n",
              "    }\n",
              "\n",
              "    .colab-df-buttons div {\n",
              "      margin-bottom: 4px;\n",
              "    }\n",
              "\n",
              "    [theme=dark] .colab-df-convert {\n",
              "      background-color: #3B4455;\n",
              "      fill: #D2E3FC;\n",
              "    }\n",
              "\n",
              "    [theme=dark] .colab-df-convert:hover {\n",
              "      background-color: #434B5C;\n",
              "      box-shadow: 0px 1px 3px 1px rgba(0, 0, 0, 0.15);\n",
              "      filter: drop-shadow(0px 1px 2px rgba(0, 0, 0, 0.3));\n",
              "      fill: #FFFFFF;\n",
              "    }\n",
              "  </style>\n",
              "\n",
              "    <script>\n",
              "      const buttonEl =\n",
              "        document.querySelector('#df-37fa9dfa-b9f1-421f-a5ff-392be45917a3 button.colab-df-convert');\n",
              "      buttonEl.style.display =\n",
              "        google.colab.kernel.accessAllowed ? 'block' : 'none';\n",
              "\n",
              "      async function convertToInteractive(key) {\n",
              "        const element = document.querySelector('#df-37fa9dfa-b9f1-421f-a5ff-392be45917a3');\n",
              "        const dataTable =\n",
              "          await google.colab.kernel.invokeFunction('convertToInteractive',\n",
              "                                                    [key], {});\n",
              "        if (!dataTable) return;\n",
              "\n",
              "        const docLinkHtml = 'Like what you see? Visit the ' +\n",
              "          '<a target=\"_blank\" href=https://colab.research.google.com/notebooks/data_table.ipynb>data table notebook</a>'\n",
              "          + ' to learn more about interactive tables.';\n",
              "        element.innerHTML = '';\n",
              "        dataTable['output_type'] = 'display_data';\n",
              "        await google.colab.output.renderOutput(dataTable, element);\n",
              "        const docLink = document.createElement('div');\n",
              "        docLink.innerHTML = docLinkHtml;\n",
              "        element.appendChild(docLink);\n",
              "      }\n",
              "    </script>\n",
              "  </div>\n",
              "\n",
              "\n",
              "<div id=\"df-2400c1fc-a515-46ef-816b-f3eccd7d38e3\">\n",
              "  <button class=\"colab-df-quickchart\" onclick=\"quickchart('df-2400c1fc-a515-46ef-816b-f3eccd7d38e3')\"\n",
              "            title=\"Suggest charts\"\n",
              "            style=\"display:none;\">\n",
              "\n",
              "<svg xmlns=\"http://www.w3.org/2000/svg\" height=\"24px\"viewBox=\"0 0 24 24\"\n",
              "     width=\"24px\">\n",
              "    <g>\n",
              "        <path d=\"M19 3H5c-1.1 0-2 .9-2 2v14c0 1.1.9 2 2 2h14c1.1 0 2-.9 2-2V5c0-1.1-.9-2-2-2zM9 17H7v-7h2v7zm4 0h-2V7h2v10zm4 0h-2v-4h2v4z\"/>\n",
              "    </g>\n",
              "</svg>\n",
              "  </button>\n",
              "\n",
              "<style>\n",
              "  .colab-df-quickchart {\n",
              "      --bg-color: #E8F0FE;\n",
              "      --fill-color: #1967D2;\n",
              "      --hover-bg-color: #E2EBFA;\n",
              "      --hover-fill-color: #174EA6;\n",
              "      --disabled-fill-color: #AAA;\n",
              "      --disabled-bg-color: #DDD;\n",
              "  }\n",
              "\n",
              "  [theme=dark] .colab-df-quickchart {\n",
              "      --bg-color: #3B4455;\n",
              "      --fill-color: #D2E3FC;\n",
              "      --hover-bg-color: #434B5C;\n",
              "      --hover-fill-color: #FFFFFF;\n",
              "      --disabled-bg-color: #3B4455;\n",
              "      --disabled-fill-color: #666;\n",
              "  }\n",
              "\n",
              "  .colab-df-quickchart {\n",
              "    background-color: var(--bg-color);\n",
              "    border: none;\n",
              "    border-radius: 50%;\n",
              "    cursor: pointer;\n",
              "    display: none;\n",
              "    fill: var(--fill-color);\n",
              "    height: 32px;\n",
              "    padding: 0;\n",
              "    width: 32px;\n",
              "  }\n",
              "\n",
              "  .colab-df-quickchart:hover {\n",
              "    background-color: var(--hover-bg-color);\n",
              "    box-shadow: 0 1px 2px rgba(60, 64, 67, 0.3), 0 1px 3px 1px rgba(60, 64, 67, 0.15);\n",
              "    fill: var(--button-hover-fill-color);\n",
              "  }\n",
              "\n",
              "  .colab-df-quickchart-complete:disabled,\n",
              "  .colab-df-quickchart-complete:disabled:hover {\n",
              "    background-color: var(--disabled-bg-color);\n",
              "    fill: var(--disabled-fill-color);\n",
              "    box-shadow: none;\n",
              "  }\n",
              "\n",
              "  .colab-df-spinner {\n",
              "    border: 2px solid var(--fill-color);\n",
              "    border-color: transparent;\n",
              "    border-bottom-color: var(--fill-color);\n",
              "    animation:\n",
              "      spin 1s steps(1) infinite;\n",
              "  }\n",
              "\n",
              "  @keyframes spin {\n",
              "    0% {\n",
              "      border-color: transparent;\n",
              "      border-bottom-color: var(--fill-color);\n",
              "      border-left-color: var(--fill-color);\n",
              "    }\n",
              "    20% {\n",
              "      border-color: transparent;\n",
              "      border-left-color: var(--fill-color);\n",
              "      border-top-color: var(--fill-color);\n",
              "    }\n",
              "    30% {\n",
              "      border-color: transparent;\n",
              "      border-left-color: var(--fill-color);\n",
              "      border-top-color: var(--fill-color);\n",
              "      border-right-color: var(--fill-color);\n",
              "    }\n",
              "    40% {\n",
              "      border-color: transparent;\n",
              "      border-right-color: var(--fill-color);\n",
              "      border-top-color: var(--fill-color);\n",
              "    }\n",
              "    60% {\n",
              "      border-color: transparent;\n",
              "      border-right-color: var(--fill-color);\n",
              "    }\n",
              "    80% {\n",
              "      border-color: transparent;\n",
              "      border-right-color: var(--fill-color);\n",
              "      border-bottom-color: var(--fill-color);\n",
              "    }\n",
              "    90% {\n",
              "      border-color: transparent;\n",
              "      border-bottom-color: var(--fill-color);\n",
              "    }\n",
              "  }\n",
              "</style>\n",
              "\n",
              "  <script>\n",
              "    async function quickchart(key) {\n",
              "      const quickchartButtonEl =\n",
              "        document.querySelector('#' + key + ' button');\n",
              "      quickchartButtonEl.disabled = true;  // To prevent multiple clicks.\n",
              "      quickchartButtonEl.classList.add('colab-df-spinner');\n",
              "      try {\n",
              "        const charts = await google.colab.kernel.invokeFunction(\n",
              "            'suggestCharts', [key], {});\n",
              "      } catch (error) {\n",
              "        console.error('Error during call to suggestCharts:', error);\n",
              "      }\n",
              "      quickchartButtonEl.classList.remove('colab-df-spinner');\n",
              "      quickchartButtonEl.classList.add('colab-df-quickchart-complete');\n",
              "    }\n",
              "    (() => {\n",
              "      let quickchartButtonEl =\n",
              "        document.querySelector('#df-2400c1fc-a515-46ef-816b-f3eccd7d38e3 button');\n",
              "      quickchartButtonEl.style.display =\n",
              "        google.colab.kernel.accessAllowed ? 'block' : 'none';\n",
              "    })();\n",
              "  </script>\n",
              "</div>\n",
              "\n",
              "  <div id=\"id_bf86820b-49ec-43ac-b0b8-2f22a23eccc9\">\n",
              "    <style>\n",
              "      .colab-df-generate {\n",
              "        background-color: #E8F0FE;\n",
              "        border: none;\n",
              "        border-radius: 50%;\n",
              "        cursor: pointer;\n",
              "        display: none;\n",
              "        fill: #1967D2;\n",
              "        height: 32px;\n",
              "        padding: 0 0 0 0;\n",
              "        width: 32px;\n",
              "      }\n",
              "\n",
              "      .colab-df-generate:hover {\n",
              "        background-color: #E2EBFA;\n",
              "        box-shadow: 0px 1px 2px rgba(60, 64, 67, 0.3), 0px 1px 3px 1px rgba(60, 64, 67, 0.15);\n",
              "        fill: #174EA6;\n",
              "      }\n",
              "\n",
              "      [theme=dark] .colab-df-generate {\n",
              "        background-color: #3B4455;\n",
              "        fill: #D2E3FC;\n",
              "      }\n",
              "\n",
              "      [theme=dark] .colab-df-generate:hover {\n",
              "        background-color: #434B5C;\n",
              "        box-shadow: 0px 1px 3px 1px rgba(0, 0, 0, 0.15);\n",
              "        filter: drop-shadow(0px 1px 2px rgba(0, 0, 0, 0.3));\n",
              "        fill: #FFFFFF;\n",
              "      }\n",
              "    </style>\n",
              "    <button class=\"colab-df-generate\" onclick=\"generateWithVariable('parkinsons')\"\n",
              "            title=\"Generate code using this dataframe.\"\n",
              "            style=\"display:none;\">\n",
              "\n",
              "  <svg xmlns=\"http://www.w3.org/2000/svg\" height=\"24px\"viewBox=\"0 0 24 24\"\n",
              "       width=\"24px\">\n",
              "    <path d=\"M7,19H8.4L18.45,9,17,7.55,7,17.6ZM5,21V16.75L18.45,3.32a2,2,0,0,1,2.83,0l1.4,1.43a1.91,1.91,0,0,1,.58,1.4,1.91,1.91,0,0,1-.58,1.4L9.25,21ZM18.45,9,17,7.55Zm-12,3A5.31,5.31,0,0,0,4.9,8.1,5.31,5.31,0,0,0,1,6.5,5.31,5.31,0,0,0,4.9,4.9,5.31,5.31,0,0,0,6.5,1,5.31,5.31,0,0,0,8.1,4.9,5.31,5.31,0,0,0,12,6.5,5.46,5.46,0,0,0,6.5,12Z\"/>\n",
              "  </svg>\n",
              "    </button>\n",
              "    <script>\n",
              "      (() => {\n",
              "      const buttonEl =\n",
              "        document.querySelector('#id_bf86820b-49ec-43ac-b0b8-2f22a23eccc9 button.colab-df-generate');\n",
              "      buttonEl.style.display =\n",
              "        google.colab.kernel.accessAllowed ? 'block' : 'none';\n",
              "\n",
              "      buttonEl.onclick = () => {\n",
              "        google.colab.notebook.generateWithVariable('parkinsons');\n",
              "      }\n",
              "      })();\n",
              "    </script>\n",
              "  </div>\n",
              "\n",
              "    </div>\n",
              "  </div>\n"
            ],
            "application/vnd.google.colaboratory.intrinsic+json": {
              "type": "dataframe",
              "variable_name": "parkinsons"
            }
          },
          "metadata": {},
          "execution_count": 12
        }
      ],
      "source": [
        "# Setting the train data to variable name \"parkinsons\" for data preprocessing\n",
        "parkinsons = X_train.copy()\n",
        "parkinsons"
      ]
    },
    {
      "cell_type": "code",
      "execution_count": 13,
      "metadata": {
        "id": "wAXIEj0lxEIf",
        "colab": {
          "base_uri": "https://localhost:8080/"
        },
        "outputId": "fb1a0047-d016-4b10-95e9-c2dc9c3a8c2f"
      },
      "outputs": [
        {
          "output_type": "execute_result",
          "data": {
            "text/plain": [
              "110    1\n",
              "38     1\n",
              "149    1\n",
              "111    1\n",
              "119    1\n",
              "      ..\n",
              "125    1\n",
              "103    1\n",
              "13     1\n",
              "69     1\n",
              "51     0\n",
              "Name: status, Length: 156, dtype: int64"
            ]
          },
          "metadata": {},
          "execution_count": 13
        }
      ],
      "source": [
        "y_train"
      ]
    },
    {
      "cell_type": "code",
      "execution_count": 14,
      "metadata": {
        "id": "dLOkSow8xEIf",
        "colab": {
          "base_uri": "https://localhost:8080/"
        },
        "outputId": "124310b4-743b-4511-b290-3e62501dcfba"
      },
      "outputs": [
        {
          "output_type": "execute_result",
          "data": {
            "text/plain": [
              "MDVP:Fo(Hz)         200.714000\n",
              "MDVP:Fhi(Hz)        223.982000\n",
              "MDVP:Flo(Hz)         89.686000\n",
              "MDVP:Jitter(%)        0.006210\n",
              "MDVP:Jitter(Abs)      0.000030\n",
              "MDVP:RAP              0.003710\n",
              "MDVP:PPQ              0.003370\n",
              "Jitter:DDP            0.011120\n",
              "MDVP:Shimmer          0.022860\n",
              "MDVP:Shimmer(dB)      0.207000\n",
              "Shimmer:APQ3          0.011920\n",
              "Shimmer:APQ5          0.014390\n",
              "MDVP:APQ              0.018520\n",
              "Shimmer:DDA           0.035760\n",
              "NHR                   0.007040\n",
              "HNR                  23.239000\n",
              "RPDE                  0.436084\n",
              "DFA                   0.727863\n",
              "spread1              -5.258320\n",
              "spread2               0.256454\n",
              "D2                    2.550961\n",
              "PPE                   0.232520\n",
              "Name: 110, dtype: float64"
            ]
          },
          "metadata": {},
          "execution_count": 14
        }
      ],
      "source": [
        "parkinsons.iloc[0]"
      ]
    },
    {
      "cell_type": "markdown",
      "metadata": {
        "id": "ir2KlYkzxEIg"
      },
      "source": [
        "#### Handling of Missing data\n"
      ]
    },
    {
      "cell_type": "code",
      "execution_count": 15,
      "metadata": {
        "id": "B5GXatiFxEIg"
      },
      "outputs": [],
      "source": [
        "# Extracting features\n",
        "features = [feature for feature in parkinsons.columns]"
      ]
    },
    {
      "cell_type": "markdown",
      "metadata": {
        "id": "dWxRzt7ixEIh"
      },
      "source": [
        "There is no missing data in this dataset"
      ]
    },
    {
      "cell_type": "code",
      "execution_count": 16,
      "metadata": {
        "id": "WxGsg_pIxEIh",
        "colab": {
          "base_uri": "https://localhost:8080/"
        },
        "outputId": "4c7ef389-f8ad-4572-b543-9e5d23e39453"
      },
      "outputs": [
        {
          "output_type": "execute_result",
          "data": {
            "text/plain": [
              "MDVP:Fo(Hz)         0\n",
              "MDVP:Fhi(Hz)        0\n",
              "MDVP:Flo(Hz)        0\n",
              "MDVP:Jitter(%)      0\n",
              "MDVP:Jitter(Abs)    0\n",
              "MDVP:RAP            0\n",
              "MDVP:PPQ            0\n",
              "Jitter:DDP          0\n",
              "MDVP:Shimmer        0\n",
              "MDVP:Shimmer(dB)    0\n",
              "Shimmer:APQ3        0\n",
              "Shimmer:APQ5        0\n",
              "MDVP:APQ            0\n",
              "Shimmer:DDA         0\n",
              "NHR                 0\n",
              "HNR                 0\n",
              "RPDE                0\n",
              "DFA                 0\n",
              "spread1             0\n",
              "spread2             0\n",
              "D2                  0\n",
              "PPE                 0\n",
              "dtype: int64"
            ]
          },
          "metadata": {},
          "execution_count": 16
        }
      ],
      "source": [
        "# Check total of missing values\n",
        "parkinsons.isna().sum()"
      ]
    },
    {
      "cell_type": "markdown",
      "metadata": {
        "id": "WJeFEHiHxEIi"
      },
      "source": [
        "#### Feature Scaling\n",
        "Scaling values to a range of -3 to 3, so as to boost model perfomance"
      ]
    },
    {
      "cell_type": "code",
      "execution_count": 17,
      "metadata": {
        "id": "Enwr62ecxEIj"
      },
      "outputs": [],
      "source": [
        "# import library for scaling\n",
        "from sklearn.preprocessing import StandardScaler"
      ]
    },
    {
      "cell_type": "code",
      "execution_count": 18,
      "metadata": {
        "id": "DlBMneROxEIj"
      },
      "outputs": [],
      "source": [
        "# initialize and scale values\n",
        "scaler = StandardScaler()\n",
        "scaler.fit(parkinsons[features])\n",
        "parkinsons[features] = scaler.transform(parkinsons[features])"
      ]
    },
    {
      "cell_type": "markdown",
      "metadata": {
        "id": "bS0WKWYixEIk"
      },
      "source": [
        "### Class Imbalance"
      ]
    },
    {
      "cell_type": "code",
      "execution_count": 19,
      "metadata": {
        "id": "6SytgcJVxEIl",
        "colab": {
          "base_uri": "https://localhost:8080/"
        },
        "outputId": "68c60bfc-abcd-4c4a-be7d-f9194be7fb59"
      },
      "outputs": [
        {
          "output_type": "execute_result",
          "data": {
            "text/plain": [
              "status\n",
              "1    0.74359\n",
              "0    0.25641\n",
              "Name: proportion, dtype: float64"
            ]
          },
          "metadata": {},
          "execution_count": 19
        }
      ],
      "source": [
        "#  Ratio of No Parkinson to Parkinson\n",
        "y_train.value_counts(normalize=True)"
      ]
    },
    {
      "cell_type": "code",
      "execution_count": 20,
      "metadata": {
        "id": "HwRMeWI1xEIm"
      },
      "outputs": [],
      "source": [
        "# joining the data together\n",
        "parkinsons = pd.concat([parkinsons, y_train], axis=1)"
      ]
    },
    {
      "cell_type": "code",
      "execution_count": 21,
      "metadata": {
        "id": "o22hn2w9xEIm",
        "colab": {
          "base_uri": "https://localhost:8080/"
        },
        "outputId": "847b36d4-c5f8-436f-f14b-30cd46faedf4"
      },
      "outputs": [
        {
          "output_type": "stream",
          "name": "stdout",
          "text": [
            "Collecting imblearn\n",
            "  Downloading imblearn-0.0-py2.py3-none-any.whl (1.9 kB)\n",
            "Requirement already satisfied: imbalanced-learn in /usr/local/lib/python3.10/dist-packages (from imblearn) (0.10.1)\n",
            "Requirement already satisfied: numpy>=1.17.3 in /usr/local/lib/python3.10/dist-packages (from imbalanced-learn->imblearn) (1.25.2)\n",
            "Requirement already satisfied: scipy>=1.3.2 in /usr/local/lib/python3.10/dist-packages (from imbalanced-learn->imblearn) (1.11.4)\n",
            "Requirement already satisfied: scikit-learn>=1.0.2 in /usr/local/lib/python3.10/dist-packages (from imbalanced-learn->imblearn) (1.2.2)\n",
            "Requirement already satisfied: joblib>=1.1.1 in /usr/local/lib/python3.10/dist-packages (from imbalanced-learn->imblearn) (1.4.2)\n",
            "Requirement already satisfied: threadpoolctl>=2.0.0 in /usr/local/lib/python3.10/dist-packages (from imbalanced-learn->imblearn) (3.5.0)\n",
            "Installing collected packages: imblearn\n",
            "Successfully installed imblearn-0.0\n"
          ]
        }
      ],
      "source": [
        "pip install imblearn"
      ]
    },
    {
      "cell_type": "code",
      "execution_count": 22,
      "metadata": {
        "id": "pAEWXzWgxEIn"
      },
      "outputs": [],
      "source": [
        "# Balancing the data\n",
        "from imblearn.over_sampling import SMOTE\n",
        "smote = SMOTE(random_state=51)\n",
        "X = parkinsons.drop(\"status\", axis=1)\n",
        "y = parkinsons[\"status\"]\n",
        "X_train, y_train = smote.fit_resample(X, y)"
      ]
    },
    {
      "cell_type": "code",
      "execution_count": 23,
      "metadata": {
        "colab": {
          "base_uri": "https://localhost:8080/"
        },
        "id": "k7IlITyPxEIn",
        "outputId": "8dbdc2bc-d318-4571-b46c-95ac279178c4"
      },
      "outputs": [
        {
          "output_type": "execute_result",
          "data": {
            "text/plain": [
              "status\n",
              "1    0.5\n",
              "0    0.5\n",
              "Name: proportion, dtype: float64"
            ]
          },
          "metadata": {},
          "execution_count": 23
        }
      ],
      "source": [
        "#  Ratio of No Diabetes to Diabetes\n",
        "y_train.value_counts(normalize=True)"
      ]
    },
    {
      "cell_type": "markdown",
      "metadata": {
        "id": "iS2so8UnxEIo"
      },
      "source": [
        "### Model Building"
      ]
    },
    {
      "cell_type": "markdown",
      "metadata": {
        "id": "EvRknc09xEIo"
      },
      "source": [
        "#### Preprocessing Test data"
      ]
    },
    {
      "cell_type": "code",
      "execution_count": 24,
      "metadata": {
        "id": "XMyoS1muxEIp"
      },
      "outputs": [],
      "source": [
        "X_test[features] = scaler.transform(X_test[features]) # scaling features"
      ]
    },
    {
      "cell_type": "code",
      "execution_count": 25,
      "metadata": {
        "colab": {
          "base_uri": "https://localhost:8080/",
          "height": 256
        },
        "id": "EEdRLm_YxEIq",
        "outputId": "06175d71-2436-48e2-cc34-d92f34b70efb"
      },
      "outputs": [
        {
          "output_type": "execute_result",
          "data": {
            "text/plain": [
              "     MDVP:Fo(Hz)  MDVP:Fhi(Hz)  MDVP:Flo(Hz)  MDVP:Jitter(%)  \\\n",
              "178    -0.151432     -0.447968      0.531967       -0.627798   \n",
              "171    -1.039602     -0.700585     -0.238230       -0.537601   \n",
              "137    -1.024432     -0.731969     -0.354934       -0.249362   \n",
              "15     -0.313735      0.149539     -0.760321       -0.510150   \n",
              "157    -0.906877     -0.692143     -0.352990        2.321258   \n",
              "\n",
              "     MDVP:Jitter(Abs)  MDVP:RAP  MDVP:PPQ  Jitter:DDP  MDVP:Shimmer  \\\n",
              "178         -0.672123 -0.581369 -0.560485   -0.581443     -0.705749   \n",
              "171         -0.392743 -0.536514 -0.546879   -0.535520     -0.818315   \n",
              "137         -0.113364 -0.244957 -0.131912   -0.243967      1.225079   \n",
              "15          -0.392743 -0.565350 -0.502661   -0.565423     -0.742750   \n",
              "157          2.959811  2.510423  1.249044    2.510302      1.033820   \n",
              "\n",
              "     MDVP:Shimmer(dB)  ...  MDVP:APQ  Shimmer:DDA       NHR       HNR  \\\n",
              "178         -0.689308  ... -0.619726    -0.677014 -0.479478  0.519697   \n",
              "171         -0.754158  ... -0.717257    -0.846283 -0.491718  0.958974   \n",
              "137          0.976850  ...  1.010606     1.308839  0.260061 -1.143867   \n",
              "15          -0.769124  ... -0.590870    -0.742018 -0.398410  0.685294   \n",
              "157          0.787287  ...  0.307688     1.032409  1.890187 -0.638612   \n",
              "\n",
              "         RPDE       DFA   spread1   spread2        D2       PPE  \n",
              "178 -0.883598  0.798224 -0.550574 -0.517415 -0.323720 -0.483962  \n",
              "171 -0.782484  0.693933 -0.561047 -0.078752 -0.470999 -0.483204  \n",
              "137  1.220770 -0.169468  0.952868  0.947541  0.742242  0.751637  \n",
              "15   0.659299 -1.073972  0.331183 -0.183522 -0.440262  0.320589  \n",
              "157  1.269749 -1.279736  2.051050  0.936787  1.482436  0.609947  \n",
              "\n",
              "[5 rows x 22 columns]"
            ],
            "text/html": [
              "\n",
              "  <div id=\"df-b6b7c79b-7246-479d-91c0-7dfbf05dd883\" class=\"colab-df-container\">\n",
              "    <div>\n",
              "<style scoped>\n",
              "    .dataframe tbody tr th:only-of-type {\n",
              "        vertical-align: middle;\n",
              "    }\n",
              "\n",
              "    .dataframe tbody tr th {\n",
              "        vertical-align: top;\n",
              "    }\n",
              "\n",
              "    .dataframe thead th {\n",
              "        text-align: right;\n",
              "    }\n",
              "</style>\n",
              "<table border=\"1\" class=\"dataframe\">\n",
              "  <thead>\n",
              "    <tr style=\"text-align: right;\">\n",
              "      <th></th>\n",
              "      <th>MDVP:Fo(Hz)</th>\n",
              "      <th>MDVP:Fhi(Hz)</th>\n",
              "      <th>MDVP:Flo(Hz)</th>\n",
              "      <th>MDVP:Jitter(%)</th>\n",
              "      <th>MDVP:Jitter(Abs)</th>\n",
              "      <th>MDVP:RAP</th>\n",
              "      <th>MDVP:PPQ</th>\n",
              "      <th>Jitter:DDP</th>\n",
              "      <th>MDVP:Shimmer</th>\n",
              "      <th>MDVP:Shimmer(dB)</th>\n",
              "      <th>...</th>\n",
              "      <th>MDVP:APQ</th>\n",
              "      <th>Shimmer:DDA</th>\n",
              "      <th>NHR</th>\n",
              "      <th>HNR</th>\n",
              "      <th>RPDE</th>\n",
              "      <th>DFA</th>\n",
              "      <th>spread1</th>\n",
              "      <th>spread2</th>\n",
              "      <th>D2</th>\n",
              "      <th>PPE</th>\n",
              "    </tr>\n",
              "  </thead>\n",
              "  <tbody>\n",
              "    <tr>\n",
              "      <th>178</th>\n",
              "      <td>-0.151432</td>\n",
              "      <td>-0.447968</td>\n",
              "      <td>0.531967</td>\n",
              "      <td>-0.627798</td>\n",
              "      <td>-0.672123</td>\n",
              "      <td>-0.581369</td>\n",
              "      <td>-0.560485</td>\n",
              "      <td>-0.581443</td>\n",
              "      <td>-0.705749</td>\n",
              "      <td>-0.689308</td>\n",
              "      <td>...</td>\n",
              "      <td>-0.619726</td>\n",
              "      <td>-0.677014</td>\n",
              "      <td>-0.479478</td>\n",
              "      <td>0.519697</td>\n",
              "      <td>-0.883598</td>\n",
              "      <td>0.798224</td>\n",
              "      <td>-0.550574</td>\n",
              "      <td>-0.517415</td>\n",
              "      <td>-0.323720</td>\n",
              "      <td>-0.483962</td>\n",
              "    </tr>\n",
              "    <tr>\n",
              "      <th>171</th>\n",
              "      <td>-1.039602</td>\n",
              "      <td>-0.700585</td>\n",
              "      <td>-0.238230</td>\n",
              "      <td>-0.537601</td>\n",
              "      <td>-0.392743</td>\n",
              "      <td>-0.536514</td>\n",
              "      <td>-0.546879</td>\n",
              "      <td>-0.535520</td>\n",
              "      <td>-0.818315</td>\n",
              "      <td>-0.754158</td>\n",
              "      <td>...</td>\n",
              "      <td>-0.717257</td>\n",
              "      <td>-0.846283</td>\n",
              "      <td>-0.491718</td>\n",
              "      <td>0.958974</td>\n",
              "      <td>-0.782484</td>\n",
              "      <td>0.693933</td>\n",
              "      <td>-0.561047</td>\n",
              "      <td>-0.078752</td>\n",
              "      <td>-0.470999</td>\n",
              "      <td>-0.483204</td>\n",
              "    </tr>\n",
              "    <tr>\n",
              "      <th>137</th>\n",
              "      <td>-1.024432</td>\n",
              "      <td>-0.731969</td>\n",
              "      <td>-0.354934</td>\n",
              "      <td>-0.249362</td>\n",
              "      <td>-0.113364</td>\n",
              "      <td>-0.244957</td>\n",
              "      <td>-0.131912</td>\n",
              "      <td>-0.243967</td>\n",
              "      <td>1.225079</td>\n",
              "      <td>0.976850</td>\n",
              "      <td>...</td>\n",
              "      <td>1.010606</td>\n",
              "      <td>1.308839</td>\n",
              "      <td>0.260061</td>\n",
              "      <td>-1.143867</td>\n",
              "      <td>1.220770</td>\n",
              "      <td>-0.169468</td>\n",
              "      <td>0.952868</td>\n",
              "      <td>0.947541</td>\n",
              "      <td>0.742242</td>\n",
              "      <td>0.751637</td>\n",
              "    </tr>\n",
              "    <tr>\n",
              "      <th>15</th>\n",
              "      <td>-0.313735</td>\n",
              "      <td>0.149539</td>\n",
              "      <td>-0.760321</td>\n",
              "      <td>-0.510150</td>\n",
              "      <td>-0.392743</td>\n",
              "      <td>-0.565350</td>\n",
              "      <td>-0.502661</td>\n",
              "      <td>-0.565423</td>\n",
              "      <td>-0.742750</td>\n",
              "      <td>-0.769124</td>\n",
              "      <td>...</td>\n",
              "      <td>-0.590870</td>\n",
              "      <td>-0.742018</td>\n",
              "      <td>-0.398410</td>\n",
              "      <td>0.685294</td>\n",
              "      <td>0.659299</td>\n",
              "      <td>-1.073972</td>\n",
              "      <td>0.331183</td>\n",
              "      <td>-0.183522</td>\n",
              "      <td>-0.440262</td>\n",
              "      <td>0.320589</td>\n",
              "    </tr>\n",
              "    <tr>\n",
              "      <th>157</th>\n",
              "      <td>-0.906877</td>\n",
              "      <td>-0.692143</td>\n",
              "      <td>-0.352990</td>\n",
              "      <td>2.321258</td>\n",
              "      <td>2.959811</td>\n",
              "      <td>2.510423</td>\n",
              "      <td>1.249044</td>\n",
              "      <td>2.510302</td>\n",
              "      <td>1.033820</td>\n",
              "      <td>0.787287</td>\n",
              "      <td>...</td>\n",
              "      <td>0.307688</td>\n",
              "      <td>1.032409</td>\n",
              "      <td>1.890187</td>\n",
              "      <td>-0.638612</td>\n",
              "      <td>1.269749</td>\n",
              "      <td>-1.279736</td>\n",
              "      <td>2.051050</td>\n",
              "      <td>0.936787</td>\n",
              "      <td>1.482436</td>\n",
              "      <td>0.609947</td>\n",
              "    </tr>\n",
              "  </tbody>\n",
              "</table>\n",
              "<p>5 rows × 22 columns</p>\n",
              "</div>\n",
              "    <div class=\"colab-df-buttons\">\n",
              "\n",
              "  <div class=\"colab-df-container\">\n",
              "    <button class=\"colab-df-convert\" onclick=\"convertToInteractive('df-b6b7c79b-7246-479d-91c0-7dfbf05dd883')\"\n",
              "            title=\"Convert this dataframe to an interactive table.\"\n",
              "            style=\"display:none;\">\n",
              "\n",
              "  <svg xmlns=\"http://www.w3.org/2000/svg\" height=\"24px\" viewBox=\"0 -960 960 960\">\n",
              "    <path d=\"M120-120v-720h720v720H120Zm60-500h600v-160H180v160Zm220 220h160v-160H400v160Zm0 220h160v-160H400v160ZM180-400h160v-160H180v160Zm440 0h160v-160H620v160ZM180-180h160v-160H180v160Zm440 0h160v-160H620v160Z\"/>\n",
              "  </svg>\n",
              "    </button>\n",
              "\n",
              "  <style>\n",
              "    .colab-df-container {\n",
              "      display:flex;\n",
              "      gap: 12px;\n",
              "    }\n",
              "\n",
              "    .colab-df-convert {\n",
              "      background-color: #E8F0FE;\n",
              "      border: none;\n",
              "      border-radius: 50%;\n",
              "      cursor: pointer;\n",
              "      display: none;\n",
              "      fill: #1967D2;\n",
              "      height: 32px;\n",
              "      padding: 0 0 0 0;\n",
              "      width: 32px;\n",
              "    }\n",
              "\n",
              "    .colab-df-convert:hover {\n",
              "      background-color: #E2EBFA;\n",
              "      box-shadow: 0px 1px 2px rgba(60, 64, 67, 0.3), 0px 1px 3px 1px rgba(60, 64, 67, 0.15);\n",
              "      fill: #174EA6;\n",
              "    }\n",
              "\n",
              "    .colab-df-buttons div {\n",
              "      margin-bottom: 4px;\n",
              "    }\n",
              "\n",
              "    [theme=dark] .colab-df-convert {\n",
              "      background-color: #3B4455;\n",
              "      fill: #D2E3FC;\n",
              "    }\n",
              "\n",
              "    [theme=dark] .colab-df-convert:hover {\n",
              "      background-color: #434B5C;\n",
              "      box-shadow: 0px 1px 3px 1px rgba(0, 0, 0, 0.15);\n",
              "      filter: drop-shadow(0px 1px 2px rgba(0, 0, 0, 0.3));\n",
              "      fill: #FFFFFF;\n",
              "    }\n",
              "  </style>\n",
              "\n",
              "    <script>\n",
              "      const buttonEl =\n",
              "        document.querySelector('#df-b6b7c79b-7246-479d-91c0-7dfbf05dd883 button.colab-df-convert');\n",
              "      buttonEl.style.display =\n",
              "        google.colab.kernel.accessAllowed ? 'block' : 'none';\n",
              "\n",
              "      async function convertToInteractive(key) {\n",
              "        const element = document.querySelector('#df-b6b7c79b-7246-479d-91c0-7dfbf05dd883');\n",
              "        const dataTable =\n",
              "          await google.colab.kernel.invokeFunction('convertToInteractive',\n",
              "                                                    [key], {});\n",
              "        if (!dataTable) return;\n",
              "\n",
              "        const docLinkHtml = 'Like what you see? Visit the ' +\n",
              "          '<a target=\"_blank\" href=https://colab.research.google.com/notebooks/data_table.ipynb>data table notebook</a>'\n",
              "          + ' to learn more about interactive tables.';\n",
              "        element.innerHTML = '';\n",
              "        dataTable['output_type'] = 'display_data';\n",
              "        await google.colab.output.renderOutput(dataTable, element);\n",
              "        const docLink = document.createElement('div');\n",
              "        docLink.innerHTML = docLinkHtml;\n",
              "        element.appendChild(docLink);\n",
              "      }\n",
              "    </script>\n",
              "  </div>\n",
              "\n",
              "\n",
              "<div id=\"df-14b46573-2b0b-41ee-a3f0-99981c726e5f\">\n",
              "  <button class=\"colab-df-quickchart\" onclick=\"quickchart('df-14b46573-2b0b-41ee-a3f0-99981c726e5f')\"\n",
              "            title=\"Suggest charts\"\n",
              "            style=\"display:none;\">\n",
              "\n",
              "<svg xmlns=\"http://www.w3.org/2000/svg\" height=\"24px\"viewBox=\"0 0 24 24\"\n",
              "     width=\"24px\">\n",
              "    <g>\n",
              "        <path d=\"M19 3H5c-1.1 0-2 .9-2 2v14c0 1.1.9 2 2 2h14c1.1 0 2-.9 2-2V5c0-1.1-.9-2-2-2zM9 17H7v-7h2v7zm4 0h-2V7h2v10zm4 0h-2v-4h2v4z\"/>\n",
              "    </g>\n",
              "</svg>\n",
              "  </button>\n",
              "\n",
              "<style>\n",
              "  .colab-df-quickchart {\n",
              "      --bg-color: #E8F0FE;\n",
              "      --fill-color: #1967D2;\n",
              "      --hover-bg-color: #E2EBFA;\n",
              "      --hover-fill-color: #174EA6;\n",
              "      --disabled-fill-color: #AAA;\n",
              "      --disabled-bg-color: #DDD;\n",
              "  }\n",
              "\n",
              "  [theme=dark] .colab-df-quickchart {\n",
              "      --bg-color: #3B4455;\n",
              "      --fill-color: #D2E3FC;\n",
              "      --hover-bg-color: #434B5C;\n",
              "      --hover-fill-color: #FFFFFF;\n",
              "      --disabled-bg-color: #3B4455;\n",
              "      --disabled-fill-color: #666;\n",
              "  }\n",
              "\n",
              "  .colab-df-quickchart {\n",
              "    background-color: var(--bg-color);\n",
              "    border: none;\n",
              "    border-radius: 50%;\n",
              "    cursor: pointer;\n",
              "    display: none;\n",
              "    fill: var(--fill-color);\n",
              "    height: 32px;\n",
              "    padding: 0;\n",
              "    width: 32px;\n",
              "  }\n",
              "\n",
              "  .colab-df-quickchart:hover {\n",
              "    background-color: var(--hover-bg-color);\n",
              "    box-shadow: 0 1px 2px rgba(60, 64, 67, 0.3), 0 1px 3px 1px rgba(60, 64, 67, 0.15);\n",
              "    fill: var(--button-hover-fill-color);\n",
              "  }\n",
              "\n",
              "  .colab-df-quickchart-complete:disabled,\n",
              "  .colab-df-quickchart-complete:disabled:hover {\n",
              "    background-color: var(--disabled-bg-color);\n",
              "    fill: var(--disabled-fill-color);\n",
              "    box-shadow: none;\n",
              "  }\n",
              "\n",
              "  .colab-df-spinner {\n",
              "    border: 2px solid var(--fill-color);\n",
              "    border-color: transparent;\n",
              "    border-bottom-color: var(--fill-color);\n",
              "    animation:\n",
              "      spin 1s steps(1) infinite;\n",
              "  }\n",
              "\n",
              "  @keyframes spin {\n",
              "    0% {\n",
              "      border-color: transparent;\n",
              "      border-bottom-color: var(--fill-color);\n",
              "      border-left-color: var(--fill-color);\n",
              "    }\n",
              "    20% {\n",
              "      border-color: transparent;\n",
              "      border-left-color: var(--fill-color);\n",
              "      border-top-color: var(--fill-color);\n",
              "    }\n",
              "    30% {\n",
              "      border-color: transparent;\n",
              "      border-left-color: var(--fill-color);\n",
              "      border-top-color: var(--fill-color);\n",
              "      border-right-color: var(--fill-color);\n",
              "    }\n",
              "    40% {\n",
              "      border-color: transparent;\n",
              "      border-right-color: var(--fill-color);\n",
              "      border-top-color: var(--fill-color);\n",
              "    }\n",
              "    60% {\n",
              "      border-color: transparent;\n",
              "      border-right-color: var(--fill-color);\n",
              "    }\n",
              "    80% {\n",
              "      border-color: transparent;\n",
              "      border-right-color: var(--fill-color);\n",
              "      border-bottom-color: var(--fill-color);\n",
              "    }\n",
              "    90% {\n",
              "      border-color: transparent;\n",
              "      border-bottom-color: var(--fill-color);\n",
              "    }\n",
              "  }\n",
              "</style>\n",
              "\n",
              "  <script>\n",
              "    async function quickchart(key) {\n",
              "      const quickchartButtonEl =\n",
              "        document.querySelector('#' + key + ' button');\n",
              "      quickchartButtonEl.disabled = true;  // To prevent multiple clicks.\n",
              "      quickchartButtonEl.classList.add('colab-df-spinner');\n",
              "      try {\n",
              "        const charts = await google.colab.kernel.invokeFunction(\n",
              "            'suggestCharts', [key], {});\n",
              "      } catch (error) {\n",
              "        console.error('Error during call to suggestCharts:', error);\n",
              "      }\n",
              "      quickchartButtonEl.classList.remove('colab-df-spinner');\n",
              "      quickchartButtonEl.classList.add('colab-df-quickchart-complete');\n",
              "    }\n",
              "    (() => {\n",
              "      let quickchartButtonEl =\n",
              "        document.querySelector('#df-14b46573-2b0b-41ee-a3f0-99981c726e5f button');\n",
              "      quickchartButtonEl.style.display =\n",
              "        google.colab.kernel.accessAllowed ? 'block' : 'none';\n",
              "    })();\n",
              "  </script>\n",
              "</div>\n",
              "\n",
              "    </div>\n",
              "  </div>\n"
            ],
            "application/vnd.google.colaboratory.intrinsic+json": {
              "type": "dataframe",
              "variable_name": "X_test"
            }
          },
          "metadata": {},
          "execution_count": 25
        }
      ],
      "source": [
        "# checking first 5 rows of data\n",
        "X_test.head()"
      ]
    },
    {
      "cell_type": "code",
      "execution_count": 26,
      "metadata": {
        "colab": {
          "base_uri": "https://localhost:8080/"
        },
        "id": "QcW_ZYpcxEIs",
        "outputId": "15b5dffa-4f8c-4ea1-aa5e-88f4f8fe5be4"
      },
      "outputs": [
        {
          "output_type": "execute_result",
          "data": {
            "text/plain": [
              "(39, 22)"
            ]
          },
          "metadata": {},
          "execution_count": 26
        }
      ],
      "source": [
        "X_test.shape"
      ]
    },
    {
      "cell_type": "markdown",
      "metadata": {
        "id": "RY8TG8-fxEIt"
      },
      "source": [
        "#### Random Forest"
      ]
    },
    {
      "cell_type": "markdown",
      "metadata": {
        "id": "VSVe8VbcxEIu"
      },
      "source": [
        "Import Model"
      ]
    },
    {
      "cell_type": "code",
      "execution_count": 27,
      "metadata": {
        "id": "rNXLUf4axEIz"
      },
      "outputs": [],
      "source": [
        "from sklearn.ensemble import RandomForestClassifier"
      ]
    },
    {
      "cell_type": "code",
      "execution_count": 28,
      "metadata": {
        "id": "b7mMvC--xEIz"
      },
      "outputs": [],
      "source": [
        "model = RandomForestClassifier(random_state=51, n_jobs=-1)"
      ]
    },
    {
      "cell_type": "markdown",
      "metadata": {
        "id": "gEEr1_Q3xEI0"
      },
      "source": [
        "Train model and make predictions"
      ]
    },
    {
      "cell_type": "code",
      "execution_count": 29,
      "metadata": {
        "colab": {
          "base_uri": "https://localhost:8080/",
          "height": 75
        },
        "id": "E4dRUUL0xEI0",
        "outputId": "74a5c15d-5499-4d9a-90b6-8a2510276473"
      },
      "outputs": [
        {
          "output_type": "execute_result",
          "data": {
            "text/plain": [
              "RandomForestClassifier(n_jobs=-1, random_state=51)"
            ],
            "text/html": [
              "<style>#sk-container-id-1 {color: black;background-color: white;}#sk-container-id-1 pre{padding: 0;}#sk-container-id-1 div.sk-toggleable {background-color: white;}#sk-container-id-1 label.sk-toggleable__label {cursor: pointer;display: block;width: 100%;margin-bottom: 0;padding: 0.3em;box-sizing: border-box;text-align: center;}#sk-container-id-1 label.sk-toggleable__label-arrow:before {content: \"▸\";float: left;margin-right: 0.25em;color: #696969;}#sk-container-id-1 label.sk-toggleable__label-arrow:hover:before {color: black;}#sk-container-id-1 div.sk-estimator:hover label.sk-toggleable__label-arrow:before {color: black;}#sk-container-id-1 div.sk-toggleable__content {max-height: 0;max-width: 0;overflow: hidden;text-align: left;background-color: #f0f8ff;}#sk-container-id-1 div.sk-toggleable__content pre {margin: 0.2em;color: black;border-radius: 0.25em;background-color: #f0f8ff;}#sk-container-id-1 input.sk-toggleable__control:checked~div.sk-toggleable__content {max-height: 200px;max-width: 100%;overflow: auto;}#sk-container-id-1 input.sk-toggleable__control:checked~label.sk-toggleable__label-arrow:before {content: \"▾\";}#sk-container-id-1 div.sk-estimator input.sk-toggleable__control:checked~label.sk-toggleable__label {background-color: #d4ebff;}#sk-container-id-1 div.sk-label input.sk-toggleable__control:checked~label.sk-toggleable__label {background-color: #d4ebff;}#sk-container-id-1 input.sk-hidden--visually {border: 0;clip: rect(1px 1px 1px 1px);clip: rect(1px, 1px, 1px, 1px);height: 1px;margin: -1px;overflow: hidden;padding: 0;position: absolute;width: 1px;}#sk-container-id-1 div.sk-estimator {font-family: monospace;background-color: #f0f8ff;border: 1px dotted black;border-radius: 0.25em;box-sizing: border-box;margin-bottom: 0.5em;}#sk-container-id-1 div.sk-estimator:hover {background-color: #d4ebff;}#sk-container-id-1 div.sk-parallel-item::after {content: \"\";width: 100%;border-bottom: 1px solid gray;flex-grow: 1;}#sk-container-id-1 div.sk-label:hover label.sk-toggleable__label {background-color: #d4ebff;}#sk-container-id-1 div.sk-serial::before {content: \"\";position: absolute;border-left: 1px solid gray;box-sizing: border-box;top: 0;bottom: 0;left: 50%;z-index: 0;}#sk-container-id-1 div.sk-serial {display: flex;flex-direction: column;align-items: center;background-color: white;padding-right: 0.2em;padding-left: 0.2em;position: relative;}#sk-container-id-1 div.sk-item {position: relative;z-index: 1;}#sk-container-id-1 div.sk-parallel {display: flex;align-items: stretch;justify-content: center;background-color: white;position: relative;}#sk-container-id-1 div.sk-item::before, #sk-container-id-1 div.sk-parallel-item::before {content: \"\";position: absolute;border-left: 1px solid gray;box-sizing: border-box;top: 0;bottom: 0;left: 50%;z-index: -1;}#sk-container-id-1 div.sk-parallel-item {display: flex;flex-direction: column;z-index: 1;position: relative;background-color: white;}#sk-container-id-1 div.sk-parallel-item:first-child::after {align-self: flex-end;width: 50%;}#sk-container-id-1 div.sk-parallel-item:last-child::after {align-self: flex-start;width: 50%;}#sk-container-id-1 div.sk-parallel-item:only-child::after {width: 0;}#sk-container-id-1 div.sk-dashed-wrapped {border: 1px dashed gray;margin: 0 0.4em 0.5em 0.4em;box-sizing: border-box;padding-bottom: 0.4em;background-color: white;}#sk-container-id-1 div.sk-label label {font-family: monospace;font-weight: bold;display: inline-block;line-height: 1.2em;}#sk-container-id-1 div.sk-label-container {text-align: center;}#sk-container-id-1 div.sk-container {/* jupyter's `normalize.less` sets `[hidden] { display: none; }` but bootstrap.min.css set `[hidden] { display: none !important; }` so we also need the `!important` here to be able to override the default hidden behavior on the sphinx rendered scikit-learn.org. See: https://github.com/scikit-learn/scikit-learn/issues/21755 */display: inline-block !important;position: relative;}#sk-container-id-1 div.sk-text-repr-fallback {display: none;}</style><div id=\"sk-container-id-1\" class=\"sk-top-container\"><div class=\"sk-text-repr-fallback\"><pre>RandomForestClassifier(n_jobs=-1, random_state=51)</pre><b>In a Jupyter environment, please rerun this cell to show the HTML representation or trust the notebook. <br />On GitHub, the HTML representation is unable to render, please try loading this page with nbviewer.org.</b></div><div class=\"sk-container\" hidden><div class=\"sk-item\"><div class=\"sk-estimator sk-toggleable\"><input class=\"sk-toggleable__control sk-hidden--visually\" id=\"sk-estimator-id-1\" type=\"checkbox\" checked><label for=\"sk-estimator-id-1\" class=\"sk-toggleable__label sk-toggleable__label-arrow\">RandomForestClassifier</label><div class=\"sk-toggleable__content\"><pre>RandomForestClassifier(n_jobs=-1, random_state=51)</pre></div></div></div></div></div>"
            ]
          },
          "metadata": {},
          "execution_count": 29
        }
      ],
      "source": [
        "model.fit(X_train, y_train)"
      ]
    },
    {
      "cell_type": "code",
      "execution_count": 30,
      "metadata": {
        "id": "Sn99TBEZxEI1"
      },
      "outputs": [],
      "source": [
        "predictions = model.predict(X_test)"
      ]
    },
    {
      "cell_type": "markdown",
      "metadata": {
        "id": "5ubWmSCuxEI2"
      },
      "source": [
        "#### RF Performance"
      ]
    },
    {
      "cell_type": "code",
      "execution_count": 31,
      "metadata": {
        "id": "cSHWZrddxEI2"
      },
      "outputs": [],
      "source": [
        "# libraries to check performance\n",
        "from sklearn.metrics import accuracy_score, confusion_matrix, f1_score,  recall_score"
      ]
    },
    {
      "cell_type": "code",
      "execution_count": 32,
      "metadata": {
        "colab": {
          "base_uri": "https://localhost:8080/"
        },
        "id": "kRGECj1QxEI2",
        "outputId": "294d9629-2416-4538-cde7-e6cc3e7b769f"
      },
      "outputs": [
        {
          "output_type": "stream",
          "name": "stdout",
          "text": [
            "The accuracy is 97.44 %\n",
            "The f1 score is 98.41 %\n",
            "The recall is 100.00 %\n"
          ]
        }
      ],
      "source": [
        "print(f\"The accuracy is {accuracy_score(y_test, predictions) * 100:.2f} %\")\n",
        "print(f\"The f1 score is {f1_score(y_test, predictions) * 100:.2f} %\")\n",
        "print(f\"The recall is {recall_score(y_test, predictions) * 100:.2f} %\")"
      ]
    },
    {
      "cell_type": "markdown",
      "metadata": {
        "id": "g4roy5kfxEI3"
      },
      "source": [
        "Confusion matrix"
      ]
    },
    {
      "cell_type": "code",
      "execution_count": 33,
      "metadata": {
        "colab": {
          "base_uri": "https://localhost:8080/",
          "height": 430
        },
        "id": "uBcFu59nxEI3",
        "outputId": "d10ed776-5a73-461b-83c5-69ed5ce45839"
      },
      "outputs": [
        {
          "output_type": "display_data",
          "data": {
            "text/plain": [
              "<Figure size 640x480 with 1 Axes>"
            ],
            "image/png": "[encoded data removed]"
          },
          "metadata": {}
        }
      ],
      "source": [
        "sns.heatmap(confusion_matrix(y_test, predictions), annot=True, cbar=False);\n",
        "# TN   FP\n",
        "# FN*   TP - Recall"
      ]
    },
    {
      "cell_type": "markdown",
      "metadata": {
        "id": "eEb5lCbrxEI4"
      },
      "source": [
        "### Most important features\n",
        "Here we check the top 10 most important features that contribute to the prediction of parkinsons\n",
        "* spread1\n",
        "* MDVP:Fo(Hz)\n",
        "* PPE\n",
        "* MDVP:Fhi(Hz)\n",
        "* spread2\n",
        "* MDVP:APQ\n",
        "* MDVP:Flo(Hz)\n",
        "* Shimmer:APQ5\n",
        "* MDVP:PPQ\n",
        "* MDVP:Shimmer\n"
      ]
    },
    {
      "cell_type": "code",
      "execution_count": 34,
      "metadata": {
        "id": "Ygav75tJxEI5"
      },
      "outputs": [],
      "source": [
        "importance_df = pd.DataFrame({\n",
        "    \"Feature\" : features,\n",
        "    \"Importance\" : model.feature_importances_}).sort_values(\"Importance\", ascending=False)"
      ]
    },
    {
      "cell_type": "code",
      "execution_count": 35,
      "metadata": {
        "id": "B5rrvib_xEI5",
        "colab": {
          "base_uri": "https://localhost:8080/",
          "height": 564
        },
        "outputId": "31578049-432c-4922-8a4e-1b1b37ccbd45"
      },
      "outputs": [
        {
          "output_type": "display_data",
          "data": {
            "text/plain": [
              "<Figure size 1000x600 with 1 Axes>"
            ],
            "image/png": "[encoded data removed]"
          },
          "metadata": {}
        }
      ],
      "source": [
        "plt.figure(figsize=[10,6])\n",
        "plt.title(\"Most Important Features\")\n",
        "sns.barplot(data=importance_df.head(10), y=\"Feature\", x=\"Importance\");"
      ]
    },
    {
      "cell_type": "markdown",
      "metadata": {
        "id": "Xh_ZvSjnxEI6"
      },
      "source": [
        "### Saving The Model"
      ]
    },
    {
      "cell_type": "markdown",
      "metadata": {
        "id": "1tjFN0ruxEI6"
      },
      "source": [
        "Random Forest had the best recall and F1 score so that would be our final model"
      ]
    },
    {
      "cell_type": "code",
      "execution_count": 36,
      "metadata": {
        "id": "DHD425iRxEI6",
        "colab": {
          "base_uri": "https://localhost:8080/"
        },
        "outputId": "b098bd92-d8c3-4177-8e42-6bfe8624de3c"
      },
      "outputs": [
        {
          "output_type": "stream",
          "name": "stdout",
          "text": [
            "Requirement already satisfied: IPyWidgets in /usr/local/lib/python3.10/dist-packages (7.7.1)\n",
            "Requirement already satisfied: ipykernel>=4.5.1 in /usr/local/lib/python3.10/dist-packages (from IPyWidgets) (5.5.6)\n",
            "Requirement already satisfied: ipython-genutils~=0.2.0 in /usr/local/lib/python3.10/dist-packages (from IPyWidgets) (0.2.0)\n",
            "Requirement already satisfied: traitlets>=4.3.1 in /usr/local/lib/python3.10/dist-packages (from IPyWidgets) (5.7.1)\n",
            "Requirement already satisfied: widgetsnbextension~=3.6.0 in /usr/local/lib/python3.10/dist-packages (from IPyWidgets) (3.6.6)\n",
            "Requirement already satisfied: ipython>=4.0.0 in /usr/local/lib/python3.10/dist-packages (from IPyWidgets) (7.34.0)\n",
            "Requirement already satisfied: jupyterlab-widgets>=1.0.0 in /usr/local/lib/python3.10/dist-packages (from IPyWidgets) (3.0.11)\n",
            "Requirement already satisfied: jupyter-client in /usr/local/lib/python3.10/dist-packages (from ipykernel>=4.5.1->IPyWidgets) (8.6.2)\n",
            "Requirement already satisfied: tornado>=4.2 in /usr/local/lib/python3.10/dist-packages (from ipykernel>=4.5.1->IPyWidgets) (6.3.3)\n",
            "Requirement already satisfied: setuptools>=18.5 in /usr/local/lib/python3.10/dist-packages (from ipython>=4.0.0->IPyWidgets) (67.7.2)\n",
            "Collecting jedi>=0.16 (from ipython>=4.0.0->IPyWidgets)\n",
            "  Downloading jedi-0.19.1-py2.py3-none-any.whl (1.6 MB)\n",
            "\u001b[2K     \u001b[90m━━━━━━━━━━━━━━━━━━━━━━━━━━━━━━━━━━━━━━━━\u001b[0m \u001b[32m1.6/1.6 MB\u001b[0m \u001b[31m8.7 MB/s\u001b[0m eta \u001b[36m0:00:00\u001b[0m\n",
            "\u001b[?25hRequirement already satisfied: decorator in /usr/local/lib/python3.10/dist-packages (from ipython>=4.0.0->IPyWidgets) (4.4.2)\n",
            "Requirement already satisfied: pickleshare in /usr/local/lib/python3.10/dist-packages (from ipython>=4.0.0->IPyWidgets) (0.7.5)\n",
            "Requirement already satisfied: prompt-toolkit!=3.0.0,!=3.0.1,<3.1.0,>=2.0.0 in /usr/local/lib/python3.10/dist-packages (from ipython>=4.0.0->IPyWidgets) (3.0.45)\n",
            "Requirement already satisfied: pygments in /usr/local/lib/python3.10/dist-packages (from ipython>=4.0.0->IPyWidgets) (2.16.1)\n",
            "Requirement already satisfied: backcall in /usr/local/lib/python3.10/dist-packages (from ipython>=4.0.0->IPyWidgets) (0.2.0)\n",
            "Requirement already satisfied: matplotlib-inline in /usr/local/lib/python3.10/dist-packages (from ipython>=4.0.0->IPyWidgets) (0.1.7)\n",
            "Requirement already satisfied: pexpect>4.3 in /usr/local/lib/python3.10/dist-packages (from ipython>=4.0.0->IPyWidgets) (4.9.0)\n",
            "Requirement already satisfied: notebook>=4.4.1 in /usr/local/lib/python3.10/dist-packages (from widgetsnbextension~=3.6.0->IPyWidgets) (6.5.5)\n",
            "Requirement already satisfied: parso<0.9.0,>=0.8.3 in /usr/local/lib/python3.10/dist-packages (from jedi>=0.16->ipython>=4.0.0->IPyWidgets) (0.8.4)\n",
            "Requirement already satisfied: jinja2 in /usr/local/lib/python3.10/dist-packages (from notebook>=4.4.1->widgetsnbextension~=3.6.0->IPyWidgets) (3.1.4)\n",
            "Requirement already satisfied: pyzmq<25,>=17 in /usr/local/lib/python3.10/dist-packages (from notebook>=4.4.1->widgetsnbextension~=3.6.0->IPyWidgets) (24.0.1)\n",
            "Requirement already satisfied: argon2-cffi in /usr/local/lib/python3.10/dist-packages (from notebook>=4.4.1->widgetsnbextension~=3.6.0->IPyWidgets) (23.1.0)\n",
            "Requirement already satisfied: jupyter-core>=4.6.1 in /usr/local/lib/python3.10/dist-packages (from notebook>=4.4.1->widgetsnbextension~=3.6.0->IPyWidgets) (5.7.2)\n",
            "Collecting jupyter-client (from ipykernel>=4.5.1->IPyWidgets)\n",
            "  Downloading jupyter_client-7.4.9-py3-none-any.whl (133 kB)\n",
            "\u001b[2K     \u001b[90m━━━━━━━━━━━━━━━━━━━━━━━━━━━━━━━━━━━━━━━━\u001b[0m \u001b[32m133.5/133.5 kB\u001b[0m \u001b[31m9.7 MB/s\u001b[0m eta \u001b[36m0:00:00\u001b[0m\n",
            "\u001b[?25hRequirement already satisfied: nbformat in /usr/local/lib/python3.10/dist-packages (from notebook>=4.4.1->widgetsnbextension~=3.6.0->IPyWidgets) (5.10.4)\n",
            "Requirement already satisfied: nbconvert>=5 in /usr/local/lib/python3.10/dist-packages (from notebook>=4.4.1->widgetsnbextension~=3.6.0->IPyWidgets) (6.5.4)\n",
            "Requirement already satisfied: nest-asyncio>=1.5 in /usr/local/lib/python3.10/dist-packages (from notebook>=4.4.1->widgetsnbextension~=3.6.0->IPyWidgets) (1.6.0)\n",
            "Requirement already satisfied: Send2Trash>=1.8.0 in /usr/local/lib/python3.10/dist-packages (from notebook>=4.4.1->widgetsnbextension~=3.6.0->IPyWidgets) (1.8.3)\n",
            "Requirement already satisfied: terminado>=0.8.3 in /usr/local/lib/python3.10/dist-packages (from notebook>=4.4.1->widgetsnbextension~=3.6.0->IPyWidgets) (0.18.1)\n",
            "Requirement already satisfied: prometheus-client in /usr/local/lib/python3.10/dist-packages (from notebook>=4.4.1->widgetsnbextension~=3.6.0->IPyWidgets) (0.20.0)\n",
            "Requirement already satisfied: nbclassic>=0.4.7 in /usr/local/lib/python3.10/dist-packages (from notebook>=4.4.1->widgetsnbextension~=3.6.0->IPyWidgets) (1.1.0)\n",
            "Requirement already satisfied: entrypoints in /usr/local/lib/python3.10/dist-packages (from jupyter-client->ipykernel>=4.5.1->IPyWidgets) (0.4)\n",
            "Requirement already satisfied: python-dateutil>=2.8.2 in /usr/local/lib/python3.10/dist-packages (from jupyter-client->ipykernel>=4.5.1->IPyWidgets) (2.8.2)\n",
            "Requirement already satisfied: ptyprocess>=0.5 in /usr/local/lib/python3.10/dist-packages (from pexpect>4.3->ipython>=4.0.0->IPyWidgets) (0.7.0)\n",
            "Requirement already satisfied: wcwidth in /usr/local/lib/python3.10/dist-packages (from prompt-toolkit!=3.0.0,!=3.0.1,<3.1.0,>=2.0.0->ipython>=4.0.0->IPyWidgets) (0.2.13)\n",
            "Requirement already satisfied: platformdirs>=2.5 in /usr/local/lib/python3.10/dist-packages (from jupyter-core>=4.6.1->notebook>=4.4.1->widgetsnbextension~=3.6.0->IPyWidgets) (4.2.2)\n",
            "Requirement already satisfied: notebook-shim>=0.2.3 in /usr/local/lib/python3.10/dist-packages (from nbclassic>=0.4.7->notebook>=4.4.1->widgetsnbextension~=3.6.0->IPyWidgets) (0.2.4)\n",
            "Requirement already satisfied: lxml in /usr/local/lib/python3.10/dist-packages (from nbconvert>=5->notebook>=4.4.1->widgetsnbextension~=3.6.0->IPyWidgets) (4.9.4)\n",
            "Requirement already satisfied: beautifulsoup4 in /usr/local/lib/python3.10/dist-packages (from nbconvert>=5->notebook>=4.4.1->widgetsnbextension~=3.6.0->IPyWidgets) (4.12.3)\n",
            "Requirement already satisfied: bleach in /usr/local/lib/python3.10/dist-packages (from nbconvert>=5->notebook>=4.4.1->widgetsnbextension~=3.6.0->IPyWidgets) (6.1.0)\n",
            "Requirement already satisfied: defusedxml in /usr/local/lib/python3.10/dist-packages (from nbconvert>=5->notebook>=4.4.1->widgetsnbextension~=3.6.0->IPyWidgets) (0.7.1)\n",
            "Requirement already satisfied: jupyterlab-pygments in /usr/local/lib/python3.10/dist-packages (from nbconvert>=5->notebook>=4.4.1->widgetsnbextension~=3.6.0->IPyWidgets) (0.3.0)\n",
            "Requirement already satisfied: MarkupSafe>=2.0 in /usr/local/lib/python3.10/dist-packages (from nbconvert>=5->notebook>=4.4.1->widgetsnbextension~=3.6.0->IPyWidgets) (2.1.5)\n",
            "Requirement already satisfied: mistune<2,>=0.8.1 in /usr/local/lib/python3.10/dist-packages (from nbconvert>=5->notebook>=4.4.1->widgetsnbextension~=3.6.0->IPyWidgets) (0.8.4)\n",
            "Requirement already satisfied: nbclient>=0.5.0 in /usr/local/lib/python3.10/dist-packages (from nbconvert>=5->notebook>=4.4.1->widgetsnbextension~=3.6.0->IPyWidgets) (0.10.0)\n",
            "Requirement already satisfied: packaging in /usr/local/lib/python3.10/dist-packages (from nbconvert>=5->notebook>=4.4.1->widgetsnbextension~=3.6.0->IPyWidgets) (24.0)\n",
            "Requirement already satisfied: pandocfilters>=1.4.1 in /usr/local/lib/python3.10/dist-packages (from nbconvert>=5->notebook>=4.4.1->widgetsnbextension~=3.6.0->IPyWidgets) (1.5.1)\n",
            "Requirement already satisfied: tinycss2 in /usr/local/lib/python3.10/dist-packages (from nbconvert>=5->notebook>=4.4.1->widgetsnbextension~=3.6.0->IPyWidgets) (1.3.0)\n",
            "Requirement already satisfied: fastjsonschema>=2.15 in /usr/local/lib/python3.10/dist-packages (from nbformat->notebook>=4.4.1->widgetsnbextension~=3.6.0->IPyWidgets) (2.19.1)\n",
            "Requirement already satisfied: jsonschema>=2.6 in /usr/local/lib/python3.10/dist-packages (from nbformat->notebook>=4.4.1->widgetsnbextension~=3.6.0->IPyWidgets) (4.19.2)\n",
            "Requirement already satisfied: six>=1.5 in /usr/local/lib/python3.10/dist-packages (from python-dateutil>=2.8.2->jupyter-client->ipykernel>=4.5.1->IPyWidgets) (1.16.0)\n",
            "Requirement already satisfied: argon2-cffi-bindings in /usr/local/lib/python3.10/dist-packages (from argon2-cffi->notebook>=4.4.1->widgetsnbextension~=3.6.0->IPyWidgets) (21.2.0)\n",
            "Requirement already satisfied: attrs>=22.2.0 in /usr/local/lib/python3.10/dist-packages (from jsonschema>=2.6->nbformat->notebook>=4.4.1->widgetsnbextension~=3.6.0->IPyWidgets) (23.2.0)\n",
            "Requirement already satisfied: jsonschema-specifications>=2023.03.6 in /usr/local/lib/python3.10/dist-packages (from jsonschema>=2.6->nbformat->notebook>=4.4.1->widgetsnbextension~=3.6.0->IPyWidgets) (2023.12.1)\n",
            "Requirement already satisfied: referencing>=0.28.4 in /usr/local/lib/python3.10/dist-packages (from jsonschema>=2.6->nbformat->notebook>=4.4.1->widgetsnbextension~=3.6.0->IPyWidgets) (0.35.1)\n",
            "Requirement already satisfied: rpds-py>=0.7.1 in /usr/local/lib/python3.10/dist-packages (from jsonschema>=2.6->nbformat->notebook>=4.4.1->widgetsnbextension~=3.6.0->IPyWidgets) (0.18.1)\n",
            "Requirement already satisfied: jupyter-server<3,>=1.8 in /usr/local/lib/python3.10/dist-packages (from notebook-shim>=0.2.3->nbclassic>=0.4.7->notebook>=4.4.1->widgetsnbextension~=3.6.0->IPyWidgets) (2.14.1)\n",
            "Requirement already satisfied: cffi>=1.0.1 in /usr/local/lib/python3.10/dist-packages (from argon2-cffi-bindings->argon2-cffi->notebook>=4.4.1->widgetsnbextension~=3.6.0->IPyWidgets) (1.16.0)\n",
            "Requirement already satisfied: soupsieve>1.2 in /usr/local/lib/python3.10/dist-packages (from beautifulsoup4->nbconvert>=5->notebook>=4.4.1->widgetsnbextension~=3.6.0->IPyWidgets) (2.5)\n",
            "Requirement already satisfied: webencodings in /usr/local/lib/python3.10/dist-packages (from bleach->nbconvert>=5->notebook>=4.4.1->widgetsnbextension~=3.6.0->IPyWidgets) (0.5.1)\n",
            "Requirement already satisfied: pycparser in /usr/local/lib/python3.10/dist-packages (from cffi>=1.0.1->argon2-cffi-bindings->argon2-cffi->notebook>=4.4.1->widgetsnbextension~=3.6.0->IPyWidgets) (2.22)\n",
            "Requirement already satisfied: anyio>=3.1.0 in /usr/local/lib/python3.10/dist-packages (from jupyter-server<3,>=1.8->notebook-shim>=0.2.3->nbclassic>=0.4.7->notebook>=4.4.1->widgetsnbextension~=3.6.0->IPyWidgets) (3.7.1)\n",
            "Requirement already satisfied: jupyter-events>=0.9.0 in /usr/local/lib/python3.10/dist-packages (from jupyter-server<3,>=1.8->notebook-shim>=0.2.3->nbclassic>=0.4.7->notebook>=4.4.1->widgetsnbextension~=3.6.0->IPyWidgets) (0.10.0)\n",
            "Requirement already satisfied: jupyter-server-terminals>=0.4.4 in /usr/local/lib/python3.10/dist-packages (from jupyter-server<3,>=1.8->notebook-shim>=0.2.3->nbclassic>=0.4.7->notebook>=4.4.1->widgetsnbextension~=3.6.0->IPyWidgets) (0.5.3)\n",
            "Requirement already satisfied: overrides>=5.0 in /usr/local/lib/python3.10/dist-packages (from jupyter-server<3,>=1.8->notebook-shim>=0.2.3->nbclassic>=0.4.7->notebook>=4.4.1->widgetsnbextension~=3.6.0->IPyWidgets) (7.7.0)\n",
            "Requirement already satisfied: websocket-client>=1.7 in /usr/local/lib/python3.10/dist-packages (from jupyter-server<3,>=1.8->notebook-shim>=0.2.3->nbclassic>=0.4.7->notebook>=4.4.1->widgetsnbextension~=3.6.0->IPyWidgets) (1.8.0)\n",
            "Requirement already satisfied: idna>=2.8 in /usr/local/lib/python3.10/dist-packages (from anyio>=3.1.0->jupyter-server<3,>=1.8->notebook-shim>=0.2.3->nbclassic>=0.4.7->notebook>=4.4.1->widgetsnbextension~=3.6.0->IPyWidgets) (3.7)\n",
            "Requirement already satisfied: sniffio>=1.1 in /usr/local/lib/python3.10/dist-packages (from anyio>=3.1.0->jupyter-server<3,>=1.8->notebook-shim>=0.2.3->nbclassic>=0.4.7->notebook>=4.4.1->widgetsnbextension~=3.6.0->IPyWidgets) (1.3.1)\n",
            "Requirement already satisfied: exceptiongroup in /usr/local/lib/python3.10/dist-packages (from anyio>=3.1.0->jupyter-server<3,>=1.8->notebook-shim>=0.2.3->nbclassic>=0.4.7->notebook>=4.4.1->widgetsnbextension~=3.6.0->IPyWidgets) (1.2.1)\n",
            "Requirement already satisfied: python-json-logger>=2.0.4 in /usr/local/lib/python3.10/dist-packages (from jupyter-events>=0.9.0->jupyter-server<3,>=1.8->notebook-shim>=0.2.3->nbclassic>=0.4.7->notebook>=4.4.1->widgetsnbextension~=3.6.0->IPyWidgets) (2.0.7)\n",
            "Requirement already satisfied: pyyaml>=5.3 in /usr/local/lib/python3.10/dist-packages (from jupyter-events>=0.9.0->jupyter-server<3,>=1.8->notebook-shim>=0.2.3->nbclassic>=0.4.7->notebook>=4.4.1->widgetsnbextension~=3.6.0->IPyWidgets) (6.0.1)\n",
            "Requirement already satisfied: rfc3339-validator in /usr/local/lib/python3.10/dist-packages (from jupyter-events>=0.9.0->jupyter-server<3,>=1.8->notebook-shim>=0.2.3->nbclassic>=0.4.7->notebook>=4.4.1->widgetsnbextension~=3.6.0->IPyWidgets) (0.1.4)\n",
            "Requirement already satisfied: rfc3986-validator>=0.1.1 in /usr/local/lib/python3.10/dist-packages (from jupyter-events>=0.9.0->jupyter-server<3,>=1.8->notebook-shim>=0.2.3->nbclassic>=0.4.7->notebook>=4.4.1->widgetsnbextension~=3.6.0->IPyWidgets) (0.1.1)\n",
            "Requirement already satisfied: fqdn in /usr/local/lib/python3.10/dist-packages (from jsonschema>=2.6->nbformat->notebook>=4.4.1->widgetsnbextension~=3.6.0->IPyWidgets) (1.5.1)\n",
            "Requirement already satisfied: isoduration in /usr/local/lib/python3.10/dist-packages (from jsonschema>=2.6->nbformat->notebook>=4.4.1->widgetsnbextension~=3.6.0->IPyWidgets) (20.11.0)\n",
            "Requirement already satisfied: jsonpointer>1.13 in /usr/local/lib/python3.10/dist-packages (from jsonschema>=2.6->nbformat->notebook>=4.4.1->widgetsnbextension~=3.6.0->IPyWidgets) (2.4)\n",
            "Requirement already satisfied: uri-template in /usr/local/lib/python3.10/dist-packages (from jsonschema>=2.6->nbformat->notebook>=4.4.1->widgetsnbextension~=3.6.0->IPyWidgets) (1.3.0)\n",
            "Requirement already satisfied: webcolors>=1.11 in /usr/local/lib/python3.10/dist-packages (from jsonschema>=2.6->nbformat->notebook>=4.4.1->widgetsnbextension~=3.6.0->IPyWidgets) (1.13)\n",
            "Requirement already satisfied: arrow>=0.15.0 in /usr/local/lib/python3.10/dist-packages (from isoduration->jsonschema>=2.6->nbformat->notebook>=4.4.1->widgetsnbextension~=3.6.0->IPyWidgets) (1.3.0)\n",
            "Requirement already satisfied: types-python-dateutil>=2.8.10 in /usr/local/lib/python3.10/dist-packages (from arrow>=0.15.0->isoduration->jsonschema>=2.6->nbformat->notebook>=4.4.1->widgetsnbextension~=3.6.0->IPyWidgets) (2.9.0.20240316)\n",
            "Installing collected packages: jedi, jupyter-client\n",
            "  Attempting uninstall: jupyter-client\n",
            "    Found existing installation: jupyter_client 8.6.2\n",
            "    Uninstalling jupyter_client-8.6.2:\n",
            "      Successfully uninstalled jupyter_client-8.6.2\n",
            "Successfully installed jedi-0.19.1 jupyter-client-7.4.9\n"
          ]
        }
      ],
      "source": [
        "pip install IPyWidgets"
      ]
    },
    {
      "cell_type": "code",
      "execution_count": 37,
      "metadata": {
        "id": "KLMSAMVYxEI7",
        "colab": {
          "base_uri": "https://localhost:8080/"
        },
        "outputId": "1eec44be-4c26-4b91-fb4d-7548dce1c609"
      },
      "outputs": [
        {
          "output_type": "stream",
          "name": "stdout",
          "text": [
            "Requirement already satisfied: IPython in /usr/local/lib/python3.10/dist-packages (7.34.0)\n",
            "Requirement already satisfied: setuptools>=18.5 in /usr/local/lib/python3.10/dist-packages (from IPython) (67.7.2)\n",
            "Requirement already satisfied: jedi>=0.16 in /usr/local/lib/python3.10/dist-packages (from IPython) (0.19.1)\n",
            "Requirement already satisfied: decorator in /usr/local/lib/python3.10/dist-packages (from IPython) (4.4.2)\n",
            "Requirement already satisfied: pickleshare in /usr/local/lib/python3.10/dist-packages (from IPython) (0.7.5)\n",
            "Requirement already satisfied: traitlets>=4.2 in /usr/local/lib/python3.10/dist-packages (from IPython) (5.7.1)\n",
            "Requirement already satisfied: prompt-toolkit!=3.0.0,!=3.0.1,<3.1.0,>=2.0.0 in /usr/local/lib/python3.10/dist-packages (from IPython) (3.0.45)\n",
            "Requirement already satisfied: pygments in /usr/local/lib/python3.10/dist-packages (from IPython) (2.16.1)\n",
            "Requirement already satisfied: backcall in /usr/local/lib/python3.10/dist-packages (from IPython) (0.2.0)\n",
            "Requirement already satisfied: matplotlib-inline in /usr/local/lib/python3.10/dist-packages (from IPython) (0.1.7)\n",
            "Requirement already satisfied: pexpect>4.3 in /usr/local/lib/python3.10/dist-packages (from IPython) (4.9.0)\n",
            "Requirement already satisfied: parso<0.9.0,>=0.8.3 in /usr/local/lib/python3.10/dist-packages (from jedi>=0.16->IPython) (0.8.4)\n",
            "Requirement already satisfied: ptyprocess>=0.5 in /usr/local/lib/python3.10/dist-packages (from pexpect>4.3->IPython) (0.7.0)\n",
            "Requirement already satisfied: wcwidth in /usr/local/lib/python3.10/dist-packages (from prompt-toolkit!=3.0.0,!=3.0.1,<3.1.0,>=2.0.0->IPython) (0.2.13)\n"
          ]
        }
      ],
      "source": [
        "pip install IPython"
      ]
    },
    {
      "cell_type": "code",
      "execution_count": 38,
      "metadata": {
        "id": "Z6qzumEgxEI8",
        "colab": {
          "base_uri": "https://localhost:8080/"
        },
        "outputId": "96e7a757-7ed3-4259-edb1-432bcc1f7996"
      },
      "outputs": [
        {
          "output_type": "stream",
          "name": "stdout",
          "text": [
            "Collecting pydub\n",
            "  Downloading pydub-0.25.1-py2.py3-none-any.whl (32 kB)\n",
            "Installing collected packages: pydub\n",
            "Successfully installed pydub-0.25.1\n"
          ]
        }
      ],
      "source": [
        "!pip install pydub"
      ]
    },
    {
      "cell_type": "code",
      "execution_count": 71,
      "metadata": {
        "colab": {
          "referenced_widgets": [
            "7cf11f4b0f87413ca171d9428e8b7c52",
            "96ff43e56f974b51a8b852aa8bdee529",
            "da6a1b9db2a14bd59e5d96e603deca90",
            "1219922b91d54f3491ec809127c0a7ef",
            "fbbb0e9f9ec44dc489e6465a1337ea80",
            "a4b76fa5bcda4276ab6f0e389fc54e78",
            "8b4f3f4064f14484917f1fa5370975d9",
            "1f9bd62162744d2facf1b5b2cfa4beb6"
          ],
          "base_uri": "https://localhost:8080/",
          "height": 237
        },
        "id": "7J5-SKUXxEI8",
        "outputId": "3563866b-096b-4cfe-c06b-41c649af7ea3"
      },
      "outputs": [
        {
          "output_type": "display_data",
          "data": {
            "text/plain": [
              "FileUpload(value={}, accept='.wav', description='Upload')"
            ],
            "application/vnd.jupyter.widget-view+json": {
              "version_major": 2,
              "version_minor": 0,
              "model_id": "7cf11f4b0f87413ca171d9428e8b7c52"
            }
          },
          "metadata": {}
        },
        {
          "output_type": "display_data",
          "data": {
            "text/plain": [
              "Button(description='predict', style=ButtonStyle())"
            ],
            "application/vnd.jupyter.widget-view+json": {
              "version_major": 2,
              "version_minor": 0,
              "model_id": "1219922b91d54f3491ec809127c0a7ef"
            }
          },
          "metadata": {}
        },
        {
          "output_type": "display_data",
          "data": {
            "text/plain": [
              "Output()"
            ],
            "application/vnd.jupyter.widget-view+json": {
              "version_major": 2,
              "version_minor": 0,
              "model_id": "8b4f3f4064f14484917f1fa5370975d9"
            }
          },
          "metadata": {}
        }
      ],
      "source": [
        "from pydub import AudioSegment\n",
        "import pandas as pd\n",
        "import numpy as np\n",
        "import ipywidgets as widgets\n",
        "\n",
        "# Create a file upload widget\n",
        "upload_widget = widgets.FileUpload(\n",
        "    accept='.wav',  # Filter for .wav files\n",
        "    multiple=False  # Allow only one file to be selected\n",
        ")\n",
        "\n",
        "def extract_audio_features(file_path):\n",
        "    # Load the audio file\n",
        "    audio = AudioSegment.from_wav(file_path)\n",
        "    samples = np.array(audio.get_array_of_samples())\n",
        "\n",
        "    # MDVP:Fo(Hz) - Average vocal fundamental frequency\n",
        "    mdvp_fo_hz = np.mean(samples)\n",
        "\n",
        "    # MDVP:Fhi(Hz) - Maximum vocal fundamental frequency\n",
        "    mdvp_fhi_hz = np.max(samples)\n",
        "\n",
        "    # MDVP:Flo(Hz) - Minimum vocal fundamental frequency\n",
        "    mdvp_flo_hz = np.min(samples)\n",
        "\n",
        "    # MDVP:Jitter(%), MDVP:Jitter(Abs), MDVP:RAP, MDVP:PPQ, Jitter:DDP - Several measures of variation in fundamental frequency\n",
        "    jitter_percent = 0\n",
        "    jitter_abs = np.mean(np.abs(np.diff(samples)))\n",
        "    rap = np.mean(np.abs(np.diff(samples, 2)))\n",
        "    ppq = np.mean(np.abs(np.diff(samples, 2))) / len(samples) * 100\n",
        "    jitter_ddp = np.mean(np.abs(np.diff(samples, 2))) * 100\n",
        "\n",
        "    # MDVP:Shimmer, MDVP:Shimmer(dB), Shimmer:APQ3, Shimmer:APQ5, MDVP:APQ, Shimmer:DDA - Several measures of variation in amplitude\n",
        "    shimmer = np.mean(np.abs(np.diff(np.abs(np.diff(samples)))))\n",
        "    shimmer_db = 20 * np.log10(np.mean(np.abs(np.diff(samples))))\n",
        "    apq3 = np.mean(np.abs(np.diff(samples, 3)))\n",
        "    apq5 = np.mean(np.abs(np.diff(samples, 5)))\n",
        "    apq = np.mean(np.abs(np.diff(samples))) / len(samples) * 100\n",
        "    dda = np.mean(np.abs(np.diff(samples)))\n",
        "\n",
        "    # NHR, HNR - Two measures of the ratio of noise to tonal components in the voice\n",
        "    nhr = np.sum(np.abs(samples[:int(len(samples) / 2)])) / np.sum(np.abs(samples[int(len(samples) / 2):]))\n",
        "    hnr = np.sum(np.abs(samples)) / np.sum(np.abs(samples - np.mean(samples)))\n",
        "\n",
        "\n",
        "    # RPDE, D2 - Two nonlinear dynamical complexity measures\n",
        "    rpde = np.mean(np.abs(np.diff(np.diff(samples)))) / np.mean(np.abs(np.diff(samples)))\n",
        "    d2 = np.mean(np.abs(np.diff(np.diff(samples, 2)))) / np.mean(np.abs(np.diff(samples, 2)))\n",
        "\n",
        "    # DFA - Signal fractal scaling exponent\n",
        "    dfa = np.mean(np.abs(np.diff(samples)))\n",
        "\n",
        "    # spread1, spread2, PPE - Three nonlinear measures of fundamental frequency variation\n",
        "    spread1 = np.mean(np.abs(np.diff(samples))) / np.std(samples)\n",
        "    spread2 = np.mean(np.abs(np.diff(samples, 2))) / np.std(np.diff(samples, 2))\n",
        "    ppe = np.mean(np.abs(np.diff(samples))) / (2 * np.std(samples))\n",
        "\n",
        "    features = (mdvp_fo_hz,mdvp_fhi_hz,mdvp_flo_hz,jitter_percent,jitter_abs,rap,ppq,jitter_ddp,shimmer,shimmer_db,apq3,apq5,apq,dda,nhr,hnr,rpde,dfa,spread1,spread2,d2,ppe)\n",
        "    features = list(features)\n",
        "    return features\n",
        "\n",
        "def predict(features):\n",
        "    input_data = [float(value) for value in features]\n",
        "    # change input data into numpy array\n",
        "    input_data_as_np_array = np.asarray(input_data)\n",
        "\n",
        "    # reshape the numpy array\n",
        "    input_reshaped = input_data_as_np_array.reshape(1,-1)\n",
        "\n",
        "    # standardize the input data\n",
        "    standard_data = scaler.transform(input_reshaped)\n",
        "    prediction = model.predict(standard_data)\n",
        "    print(prediction)\n",
        "\n",
        "    if prediction[0] == 0:\n",
        "\t     result = print('The person is healthy')\n",
        "\n",
        "    else:\n",
        "\t     result = print(\"The person has Parkinson's disease\")\n",
        "\n",
        "    return result\n",
        "\n",
        "# Create a button widget\n",
        "button_widget = widgets.Button(description=\"predict\")\n",
        "\n",
        "# Create the output widget\n",
        "output_widget = widgets.Output()\n",
        "\n",
        "# Define a function to handle button clicks\n",
        "def on_button_click(button):\n",
        "    with output_widget:\n",
        "        # Clear previous output\n",
        "        output_widget.clear_output()\n",
        "\n",
        "        # Get the file path of the uploaded file\n",
        "        file_path = next(iter(upload_widget.value.keys()))\n",
        "\n",
        "        # Extract audio features\n",
        "        features = extract_audio_features(file_path)\n",
        "        result = predict(features)\n",
        "\n",
        "        # Print the extracted features\n",
        "        print(features)\n",
        "        print(result)\n",
        "\n",
        "# Connect the button click event to the function\n",
        "button_widget.on_click(on_button_click)\n",
        "\n",
        "# Display the widgets\n",
        "display(upload_widget, button_widget, output_widget)"
      ]
    }
  ],
  "metadata": {
    "accelerator": "GPU",
    "colab": {
      "gpuType": "T4",
      "provenance": []
    },
    "kernelspec": {
      "display_name": "Python 3",
      "name": "python3"
    },
    "language_info": {
      "codemirror_mode": {
        "name": "ipython",
        "version": 3
      },
      "file_extension": ".py",
      "mimetype": "text/x-python",
      "name": "python",
      "nbconvert_exporter": "python",
      "pygments_lexer": "ipython3",
      "version": "3.12.3"
    },
    "vscode": {
      "interpreter": {
        "hash": "397fa5c989aefacd265b089cd9fa90a007575229207dba4eead3a1aa550249df"
      }
    },
    "widgets": {
      "application/vnd.jupyter.widget-state+json": {
        "7cf11f4b0f87413ca171d9428e8b7c52": {
          "model_module": "@jupyter-widgets/controls",
          "model_name": "FileUploadModel",
          "model_module_version": "1.5.0",
          "state": {
            "_counter": 1,
            "_dom_classes": [],
            "_model_module": "@jupyter-widgets/controls",
            "_model_module_version": "1.5.0",
            "_model_name": "FileUploadModel",
            "_view_count": null,
            "_view_module": "@jupyter-widgets/controls",
            "_view_module_version": "1.5.0",
            "_view_name": "FileUploadView",
            "accept": ".wav",
            "button_style": "",
            "data": [
              null
            ],
            "description": "Upload",
            "description_tooltip": null,
            "disabled": false,
            "error": "",
            "icon": "upload",
            "layout": "IPY_MODEL_96ff43e56f974b51a8b852aa8bdee529",
            "metadata": [
              {
                "name": "file_example_WAV_1MG.wav",
                "type": "audio/wav",
                "size": 1048558,
                "lastModified": 1717560022998
              }
            ],
            "multiple": false,
            "style": "IPY_MODEL_da6a1b9db2a14bd59e5d96e603deca90"
          }
        },
        "96ff43e56f974b51a8b852aa8bdee529": {
          "model_module": "@jupyter-widgets/base",
          "model_name": "LayoutModel",
          "model_module_version": "1.2.0",
          "state": {
            "_model_module": "@jupyter-widgets/base",
            "_model_module_version": "1.2.0",
            "_model_name": "LayoutModel",
            "_view_count": null,
            "_view_module": "@jupyter-widgets/base",
            "_view_module_version": "1.2.0",
            "_view_name": "LayoutView",
            "align_content": null,
            "align_items": null,
            "align_self": null,
            "border": null,
            "bottom": null,
            "display": null,
            "flex": null,
            "flex_flow": null,
            "grid_area": null,
            "grid_auto_columns": null,
            "grid_auto_flow": null,
            "grid_auto_rows": null,
            "grid_column": null,
            "grid_gap": null,
            "grid_row": null,
            "grid_template_areas": null,
            "grid_template_columns": null,
            "grid_template_rows": null,
            "height": null,
            "justify_content": null,
            "justify_items": null,
            "left": null,
            "margin": null,
            "max_height": null,
            "max_width": null,
            "min_height": null,
            "min_width": null,
            "object_fit": null,
            "object_position": null,
            "order": null,
            "overflow": null,
            "overflow_x": null,
            "overflow_y": null,
            "padding": null,
            "right": null,
            "top": null,
            "visibility": null,
            "width": null
          }
        },
        "da6a1b9db2a14bd59e5d96e603deca90": {
          "model_module": "@jupyter-widgets/controls",
          "model_name": "ButtonStyleModel",
          "model_module_version": "1.5.0",
          "state": {
            "_model_module": "@jupyter-widgets/controls",
            "_model_module_version": "1.5.0",
            "_model_name": "ButtonStyleModel",
            "_view_count": null,
            "_view_module": "@jupyter-widgets/base",
            "_view_module_version": "1.2.0",
            "_view_name": "StyleView",
            "button_color": null,
            "font_weight": ""
          }
        },
        "1219922b91d54f3491ec809127c0a7ef": {
          "model_module": "@jupyter-widgets/controls",
          "model_name": "ButtonModel",
          "model_module_version": "1.5.0",
          "state": {
            "_dom_classes": [],
            "_model_module": "@jupyter-widgets/controls",
            "_model_module_version": "1.5.0",
            "_model_name": "ButtonModel",
            "_view_count": null,
            "_view_module": "@jupyter-widgets/controls",
            "_view_module_version": "1.5.0",
            "_view_name": "ButtonView",
            "button_style": "",
            "description": "predict",
            "disabled": false,
            "icon": "",
            "layout": "IPY_MODEL_fbbb0e9f9ec44dc489e6465a1337ea80",
            "style": "IPY_MODEL_a4b76fa5bcda4276ab6f0e389fc54e78",
            "tooltip": ""
          }
        },
        "fbbb0e9f9ec44dc489e6465a1337ea80": {
          "model_module": "@jupyter-widgets/base",
          "model_name": "LayoutModel",
          "model_module_version": "1.2.0",
          "state": {
            "_model_module": "@jupyter-widgets/base",
            "_model_module_version": "1.2.0",
            "_model_name": "LayoutModel",
            "_view_count": null,
            "_view_module": "@jupyter-widgets/base",
            "_view_module_version": "1.2.0",
            "_view_name": "LayoutView",
            "align_content": null,
            "align_items": null,
            "align_self": null,
            "border": null,
            "bottom": null,
            "display": null,
            "flex": null,
            "flex_flow": null,
            "grid_area": null,
            "grid_auto_columns": null,
            "grid_auto_flow": null,
            "grid_auto_rows": null,
            "grid_column": null,
            "grid_gap": null,
            "grid_row": null,
            "grid_template_areas": null,
            "grid_template_columns": null,
            "grid_template_rows": null,
            "height": null,
            "justify_content": null,
            "justify_items": null,
            "left": null,
            "margin": null,
            "max_height": null,
            "max_width": null,
            "min_height": null,
            "min_width": null,
            "object_fit": null,
            "object_position": null,
            "order": null,
            "overflow": null,
            "overflow_x": null,
            "overflow_y": null,
            "padding": null,
            "right": null,
            "top": null,
            "visibility": null,
            "width": null
          }
        },
        "a4b76fa5bcda4276ab6f0e389fc54e78": {
          "model_module": "@jupyter-widgets/controls",
          "model_name": "ButtonStyleModel",
          "model_module_version": "1.5.0",
          "state": {
            "_model_module": "@jupyter-widgets/controls",
            "_model_module_version": "1.5.0",
            "_model_name": "ButtonStyleModel",
            "_view_count": null,
            "_view_module": "@jupyter-widgets/base",
            "_view_module_version": "1.2.0",
            "_view_name": "StyleView",
            "button_color": null,
            "font_weight": ""
          }
        },
        "8b4f3f4064f14484917f1fa5370975d9": {
          "model_module": "@jupyter-widgets/output",
          "model_name": "OutputModel",
          "model_module_version": "1.0.0",
          "state": {
            "_dom_classes": [],
            "_model_module": "@jupyter-widgets/output",
            "_model_module_version": "1.0.0",
            "_model_name": "OutputModel",
            "_view_count": null,
            "_view_module": "@jupyter-widgets/output",
            "_view_module_version": "1.0.0",
            "_view_name": "OutputView",
            "layout": "IPY_MODEL_1f9bd62162744d2facf1b5b2cfa4beb6",
            "msg_id": "",
            "outputs": [
              {
                "output_type": "stream",
                "name": "stdout",
                "text": [
                  "[1]\n",
                  "The person has Parkinson's disease\n",
                  "[0.2825226827016261, 6056, -6038, 0, 127.3828690906108, 232.57169401700924, 0.04436799278446077, 23257.169401700925, 88.06989122181821, 42.102220528642064, 464.87582437498213, 1858.1223504005281, 0.024300989166217236, 127.3828690906108, 1.7847605912358324, 0.9999974666309126, 1.8257690039276384, 127.3828690906108, 0.05454367210944136, 0.6997469537601018, 1.9988495433196751, 0.02727183605472068]\n",
                  "None\n"
                ]
              },
              {
                "output_type": "stream",
                "name": "stderr",
                "text": [
                  "/usr/local/lib/python3.10/dist-packages/sklearn/base.py:439: UserWarning: X does not have valid feature names, but StandardScaler was fitted with feature names\n",
                  "  warnings.warn(\n",
                  "/usr/local/lib/python3.10/dist-packages/sklearn/base.py:439: UserWarning: X does not have valid feature names, but RandomForestClassifier was fitted with feature names\n",
                  "  warnings.warn(\n"
                ]
              }
            ]
          }
        },
        "1f9bd62162744d2facf1b5b2cfa4beb6": {
          "model_module": "@jupyter-widgets/base",
          "model_name": "LayoutModel",
          "model_module_version": "1.2.0",
          "state": {
            "_model_module": "@jupyter-widgets/base",
            "_model_module_version": "1.2.0",
            "_model_name": "LayoutModel",
            "_view_count": null,
            "_view_module": "@jupyter-widgets/base",
            "_view_module_version": "1.2.0",
            "_view_name": "LayoutView",
            "align_content": null,
            "align_items": null,
            "align_self": null,
            "border": null,
            "bottom": null,
            "display": null,
            "flex": null,
            "flex_flow": null,
            "grid_area": null,
            "grid_auto_columns": null,
            "grid_auto_flow": null,
            "grid_auto_rows": null,
            "grid_column": null,
            "grid_gap": null,
            "grid_row": null,
            "grid_template_areas": null,
            "grid_template_columns": null,
            "grid_template_rows": null,
            "height": null,
            "justify_content": null,
            "justify_items": null,
            "left": null,
            "margin": null,
            "max_height": null,
            "max_width": null,
            "min_height": null,
            "min_width": null,
            "object_fit": null,
            "object_position": null,
            "order": null,
            "overflow": null,
            "overflow_x": null,
            "overflow_y": null,
            "padding": null,
            "right": null,
            "top": null,
            "visibility": null,
            "width": null
          }
        }
      }
    }
  },
  "nbformat": 4,
  "nbformat_minor": 0
}